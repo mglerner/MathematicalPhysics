{
 "cells": [
  {
   "cell_type": "markdown",
   "metadata": {},
   "source": [
    "## Setting up our Python environment\n",
    "\n",
    "In addition to the normal inputs, we'll grab Bessel functions from `scipy.special`. There are different conventions, but we'll mostly be using the $J_n$'s\n",
    "\n",
    "For the rest of this notebook, I'll be assuming you reviewed bessel functions in the cylinder notebook."
   ]
  },
  {
   "cell_type": "code",
   "execution_count": 1,
   "metadata": {},
   "outputs": [],
   "source": [
    "import numpy as np, scipy as sp, matplotlib.pyplot as plt, seaborn as sns\n",
    "sns.set_style({'axes.grid' : False})\n",
    "\n",
    "from mpl_toolkits.mplot3d import Axes3D\n",
    "from ipywidgets import interact, fixed\n",
    "from matplotlib import cm\n",
    "from numpy import sin, cos, arctan, arctan2, array, sqrt, linspace, meshgrid, pi\n",
    "#%matplotlib inline\n",
    "import scipy.special\n",
    "from scipy.special import j0,j1,jn,y0,y1,yn, jn_zeros"
   ]
  },
  {
   "cell_type": "markdown",
   "metadata": {},
   "source": [
    "# Now on to drum heads\n",
    "\n",
    "Assuming you solved this in class, you know we're looking for things like\n",
    "\n",
    "$J_n(k_{m,n})R\\cos(n\\theta)\\cos(k_{m,n}vt)$\n",
    "\n",
    "So, let's plot that. Remember, we want the above function over the drum head, and zero elsewhere.\n",
    "\n",
    "First, let's all read through Boas together\n",
    "\n",
    "... reading ...\n",
    "\n",
    "Now let's plot some things!"
   ]
  },
  {
   "cell_type": "code",
   "execution_count": 4,
   "metadata": {},
   "outputs": [
    {
     "data": {
      "application/vnd.jupyter.widget-view+json": {
       "model_id": "bc28566159e1460abca7fcd725788630",
       "version_major": 2,
       "version_minor": 0
      },
      "text/plain": [
       "interactive(children=(IntSlider(value=0, description='n', max=10), IntSlider(value=1, description='m', max=10,…"
      ]
     },
     "metadata": {},
     "output_type": "display_data"
    }
   ],
   "source": [
    "v = 1\n",
    "periods = 2\n",
    "frames_per = 50\n",
    "Npoints = 100\n",
    "\n",
    "x = np.linspace(-1,1,Npoints)\n",
    "y = np.linspace(-1,1,Npoints)\n",
    "X,Y = np.meshgrid(x,y)\n",
    "\n",
    "def k(m,n):\n",
    "    # jn_zeros(n, nt): Compute nt zeros of the Bessel function Jn(x).\n",
    "    return jn_zeros(n,m)[m-1] # m is 0-indexed here\n",
    "\n",
    "def generate(X, Y, t, n, m, v, f1, f2):\n",
    "    theta = arctan2(Y,X) # This does arctan(Y/X) but gets the sign right.\n",
    "    R = sqrt(X**2 + Y**2)\n",
    "    # We know z = J_n(k*r)*cos(n*theta)*cos(k*v*t)\n",
    "    # \n",
    "    f1 = {'sin':sin,'cos':cos}[f1]\n",
    "    f2 = {'sin':sin,'cos':cos}[f2]\n",
    "\n",
    "    result = jn(n,k(m,n)*R)*f1(n*theta)*f2(k(m,n)*v*t)\n",
    "    result[R>1] = 0  # we plot points from the square, but physically require this.\n",
    "    return result\n",
    "\n",
    "\n",
    "def plot_frame(n=0,m=1,t=0,\n",
    "              f1='cos',f2='cos',\n",
    "              elev=20,azim=60,\n",
    "              alpha=0.9):\n",
    "    fig = plt.figure()\n",
    "    ax = fig.add_subplot(111, projection='3d')\n",
    "    Z = generate(X,Y,t=t,n=n,m=m,v=v,f1=f1,f2=f2)\n",
    "    #ax.plot_surface(X, Y, Z, rstride=4, cstride=4, alpha=0.3, cmap=cm.viridis, vmin=-1, vmax=1)\n",
    "    ax.plot_surface(X, Y, Z, cmap=cm.viridis, vmin=-1, vmax=1, alpha=alpha)\n",
    "    if n == 0:\n",
    "        ax.set_zlim(-1,1)\n",
    "    else:\n",
    "        ax.set_zlim(-0.5,0.5)\n",
    "    ax.view_init(elev=elev, azim=azim)\n",
    "    plt.show()\n",
    "_ = interact(plot_frame,t=(0,periods,periods/frames_per),\n",
    "             n=(0,10),m=(1,10),\n",
    "             f1=['sin','cos'],f2=['sin','cos'],\n",
    "             elev=(-180,180,1),azim=(-180,180,1),\n",
    "             alpha=(0,1,0.1),\n",
    "            )"
   ]
  },
  {
   "cell_type": "markdown",
   "metadata": {},
   "source": [
    "And now let's plot a grid, complete with nodelines!"
   ]
  },
  {
   "cell_type": "code",
   "execution_count": 5,
   "metadata": {},
   "outputs": [
    {
     "data": {
      "application/vnd.jupyter.widget-view+json": {
       "model_id": "f251e74c24ee4b78863ff24122f68ddc",
       "version_major": 2,
       "version_minor": 0
      },
      "text/plain": [
       "interactive(children=(FloatSlider(value=0.0, description='t', max=2.0, step=0.04), IntSlider(value=1, descript…"
      ]
     },
     "metadata": {},
     "output_type": "display_data"
    }
   ],
   "source": [
    "v = 1\n",
    "periods = 2\n",
    "frames_per = 50\n",
    "Npoints = 100\n",
    "\n",
    "x = np.linspace(-1,1,Npoints)\n",
    "y = np.linspace(-1,1,Npoints)\n",
    "X,Y = np.meshgrid(x,y)\n",
    "\n",
    "\n",
    "def plot_frame2(t=0,nmax=1,mmax=2):\n",
    "    # one period is 2*pi/jn_zeros(n,m)[m-1]\n",
    "    #t = t*2*pi/jn_zeros(n,m)[m-1]\n",
    "    ns = list(range(0,nmax))\n",
    "    ms = list(range(1,mmax))\n",
    "    fig = plt.figure(figsize=(6*len(ms),2*(len(ns))))\n",
    "    \n",
    "    axs = {}\n",
    "    rows, cols = len(ns), 2*len(ms)\n",
    "\n",
    "    idx = 1\n",
    "    for m in ms:\n",
    "        axs[m] = {}\n",
    "        for n in ns:\n",
    "            axs[m][n] = (fig.add_subplot(rows,cols,idx, projection='3d'),\n",
    "                        fig.add_subplot(rows,cols,idx+1))\n",
    "            idx += 2\n",
    "\n",
    "    \n",
    "    for m in ms:\n",
    "        for n in ns:\n",
    "            Z = generate(X, Y, t, n, m, v, 'cos', 'cos')\n",
    "            axs[m][n][0].plot_surface(X, Y, Z, alpha=0.9, \n",
    "                                      cmap=cm.viridis, vmin=-0.7,vmax=0.7,)\n",
    "\n",
    "            if n == 0:\n",
    "                axs[m][n][0].set_zlim(-0.7,.7)\n",
    "                axs[m][n][1].imshow(Z,vmin=-0.7,vmax=0.7, cmap=cm.viridis)\n",
    "            else:\n",
    "                axs[m][n][0].set_zlim(-0.5,0.5)\n",
    "                axs[m][n][1].imshow(Z,vmin=-0.5,vmax=0.5, cmap=cm.viridis)\n",
    "            # The funny business with levels here is because you won't\n",
    "            # get a contour exactly at zero that necessarily tracks\n",
    "            # around both sides of the circle due to the fact that\n",
    "            # we've discretized things.\n",
    "            levels = [-0.000000001,0.0,0.000000001]\n",
    "            axs[m][n][1].contour(Z, levels, colors='k',\n",
    "                                 linestyles='solid', linewidths=2)\n",
    "    plt.show()\n",
    "_ = interact(plot_frame2,t=(0,periods,periods/frames_per),\n",
    "             nmax=(1,5),mmax=(2,5),\n",
    "            )"
   ]
  },
  {
   "cell_type": "code",
   "execution_count": null,
   "metadata": {
    "collapsed": true,
    "jupyter": {
     "outputs_hidden": true
    }
   },
   "outputs": [],
   "source": []
  }
 ],
 "metadata": {
  "anaconda-cloud": {},
  "kernelspec": {
   "display_name": "Python 3 (ipykernel)",
   "language": "python",
   "name": "python3"
  },
  "language_info": {
   "codemirror_mode": {
    "name": "ipython",
    "version": 3
   },
   "file_extension": ".py",
   "mimetype": "text/x-python",
   "name": "python",
   "nbconvert_exporter": "python",
   "pygments_lexer": "ipython3",
   "version": "3.10.10"
  },
  "widgets": {
   "state": {
    "470254b9b7724c358e6eeb6c9ef6afd6": {
     "views": [
      {
       "cell_index": 4
      }
     ]
    },
    "54daf1a9640e47058bfd89bf8ad65891": {
     "views": [
      {
       "cell_index": 6
      }
     ]
    },
    "6e97bf24029d40eea8d2b6f5ab4f254e": {
     "views": [
      {
       "cell_index": 12
      }
     ]
    },
    "6fb4decb62df444f8c35c26f047ff331": {
     "views": [
      {
       "cell_index": 14
      }
     ]
    },
    "93534722bc0842ec805ed6683c6c2fbd": {
     "views": [
      {
       "cell_index": 16
      }
     ]
    },
    "98a8c20708e240cc99639574d923b393": {
     "views": [
      {
       "cell_index": 10
      }
     ]
    },
    "d5cb746864204c6382350c6f8cdbd73b": {
     "views": [
      {
       "cell_index": 8
      }
     ]
    }
   },
   "version": "1.2.0"
  }
 },
 "nbformat": 4,
 "nbformat_minor": 4
}
