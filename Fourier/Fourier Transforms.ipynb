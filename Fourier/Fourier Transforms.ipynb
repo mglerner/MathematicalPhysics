{
 "cells": [
  {
   "cell_type": "code",
   "execution_count": 1,
   "metadata": {},
   "outputs": [],
   "source": [
    "%matplotlib inline\n",
    "import numpy as np, scipy as sp, pandas as pd, seaborn as sns\n",
    "from matplotlib import pyplot as plt"
   ]
  },
  {
   "cell_type": "code",
   "execution_count": 3,
   "metadata": {},
   "outputs": [],
   "source": [
    "from ipywidgets import interact, fixed"
   ]
  },
  {
   "cell_type": "markdown",
   "metadata": {},
   "source": [
    "# Dirichlet"
   ]
  },
  {
   "cell_type": "code",
   "execution_count": 4,
   "metadata": {},
   "outputs": [
    {
     "data": {
      "application/vnd.jupyter.widget-view+json": {
       "model_id": "47422ce2b6684e8f90f3b0e6a4d0c868",
       "version_major": 2,
       "version_minor": 0
      },
      "text/html": [
       "<p>Failed to display Jupyter Widget of type <code>interactive</code>.</p>\n",
       "<p>\n",
       "  If you're reading this message in the Jupyter Notebook or JupyterLab Notebook, it may mean\n",
       "  that the widgets JavaScript is still loading. If this message persists, it\n",
       "  likely means that the widgets JavaScript library is either not installed or\n",
       "  not enabled. See the <a href=\"https://ipywidgets.readthedocs.io/en/stable/user_install.html\">Jupyter\n",
       "  Widgets Documentation</a> for setup instructions.\n",
       "</p>\n",
       "<p>\n",
       "  If you're reading this message in another frontend (for example, a static\n",
       "  rendering on GitHub or <a href=\"https://nbviewer.jupyter.org/\">NBViewer</a>),\n",
       "  it may mean that your frontend doesn't currently support widgets.\n",
       "</p>\n"
      ],
      "text/plain": [
       "interactive(children=(FloatSlider(value=1.0, description='left', max=1.0, step=0.01), FloatSlider(value=6.283185307179586, description='right', max=6.283185307179586, step=0.01), Output()), _dom_classes=('widget-interact',))"
      ]
     },
     "metadata": {},
     "output_type": "display_data"
    },
    {
     "data": {
      "text/plain": [
       "<function __main__.plotweird>"
      ]
     },
     "execution_count": 4,
     "metadata": {},
     "output_type": "execute_result"
    }
   ],
   "source": [
    "def plotweird(left=1,right=2*np.pi):\n",
    "    #right = 4*np.pi\n",
    "    x = np.linspace(left,right,10000)\n",
    "    plt.plot(x,np.sin(1/x))\n",
    "    plt.xlim(0,right)\n",
    "interact(plotweird,left=(0,1,0.01),right=(0,2*np.pi,0.01))"
   ]
  },
  {
   "cell_type": "code",
   "execution_count": null,
   "metadata": {
    "collapsed": true,
    "jupyter": {
     "outputs_hidden": true
    }
   },
   "outputs": [],
   "source": []
  },
  {
   "cell_type": "code",
   "execution_count": null,
   "metadata": {
    "collapsed": true,
    "jupyter": {
     "outputs_hidden": true
    }
   },
   "outputs": [],
   "source": []
  },
  {
   "cell_type": "code",
   "execution_count": null,
   "metadata": {
    "collapsed": true,
    "jupyter": {
     "outputs_hidden": true
    }
   },
   "outputs": [],
   "source": []
  },
  {
   "cell_type": "markdown",
   "metadata": {},
   "source": [
    "# And now let's play with the awesome function we defined from Fourier Transforms!"
   ]
  },
  {
   "cell_type": "code",
   "execution_count": 5,
   "metadata": {},
   "outputs": [],
   "source": [
    "from scipy import integrate\n",
    "from numpy import pi, sin, cos, linspace"
   ]
  },
  {
   "cell_type": "code",
   "execution_count": 7,
   "metadata": {},
   "outputs": [],
   "source": [
    "integrate.quad?"
   ]
  },
  {
   "cell_type": "code",
   "execution_count": 6,
   "metadata": {},
   "outputs": [
    {
     "name": "stdout",
     "output_type": "stream",
     "text": [
      "(2.221501482512777e-16, 4.3998892617845996e-14)\n",
      "(2.0, 2.220446049250313e-14)\n"
     ]
    }
   ],
   "source": [
    "print (integrate.quad(lambda x: sin(x), 0, 2*pi))\n",
    "print (integrate.quad(lambda x: sin(x), 0, pi))"
   ]
  },
  {
   "cell_type": "code",
   "execution_count": 8,
   "metadata": {},
   "outputs": [
    {
     "data": {
      "image/png": "[encoded data removed]",
      "text/plain": [
       "<matplotlib.figure.Figure at 0x11343e2e8>"
      ]
     },
     "metadata": {},
     "output_type": "display_data"
    }
   ],
   "source": [
    "def f(x, toplim):\n",
    "    def g(alpha): \n",
    "        return sin(alpha)*cos(alpha*x)/alpha\n",
    "    return integrate.quad(g, 0, toplim)[0]*2/pi\n",
    "# This says that the x values I care about go from -5 to 5, \n",
    "# and that there are 50 values to calculate inbetween.\n",
    "xs = linspace(-5,5,50) \n",
    "# This says to calculate the integral going from 0 to 5\n",
    "# (should be from 0 to infinity, but that would take a while)\n",
    "y = [f(x,5) for x in xs]\n",
    "plt.plot(xs,y)\n",
    "plt.grid()"
   ]
  },
  {
   "cell_type": "markdown",
   "metadata": {},
   "source": [
    "So that's kind of convincing ... I mean, we can see that it looks a bit like 0 outside the range we want ... but not terribly. Does it help to add more points in the middle?"
   ]
  },
  {
   "cell_type": "code",
   "execution_count": null,
   "metadata": {},
   "outputs": [],
   "source": [
    "xs = linspace(-5,5,100) \n",
    "y = [f(x,5) for x in xs]\n",
    "plt.plot(xs,y)\n",
    "plt.grid()"
   ]
  },
  {
   "cell_type": "markdown",
   "metadata": {},
   "source": [
    "Nope. That just smooths out the ugliness. What does it look like farther away?"
   ]
  },
  {
   "cell_type": "code",
   "execution_count": null,
   "metadata": {},
   "outputs": [],
   "source": [
    "xs = linspace(-20,20,200) \n",
    "y = [f(x,5) for x in xs]\n",
    "plt.plot(xs,y)\n",
    "plt.grid()"
   ]
  },
  {
   "cell_type": "markdown",
   "metadata": {},
   "source": [
    "So, at least the ringing looks like it's dying off. What if we change the upper limit of the integral?"
   ]
  },
  {
   "cell_type": "code",
   "execution_count": null,
   "metadata": {},
   "outputs": [],
   "source": [
    "xs = linspace(-5,5,100) \n",
    "y = [f(x,10) for x in xs]\n",
    "plt.plot(xs,y)\n",
    "plt.grid()"
   ]
  },
  {
   "cell_type": "markdown",
   "metadata": {},
   "source": [
    "That's looking better. Let's keep doing it."
   ]
  },
  {
   "cell_type": "code",
   "execution_count": null,
   "metadata": {},
   "outputs": [],
   "source": [
    "xs = linspace(-5,5,100) \n",
    "y = [f(x,20) for x in xs]\n",
    "plt.plot(xs,y)\n",
    "plt.grid()"
   ]
  },
  {
   "cell_type": "code",
   "execution_count": null,
   "metadata": {},
   "outputs": [],
   "source": [
    "xs = linspace(-5,5,100) \n",
    "y = [f(x,200) for x in xs]\n",
    "plt.plot(xs,y)\n",
    "plt.grid()"
   ]
  },
  {
   "cell_type": "code",
   "execution_count": null,
   "metadata": {},
   "outputs": [],
   "source": []
  },
  {
   "cell_type": "markdown",
   "metadata": {},
   "source": [
    "Can we make sense of that? Well, remember that we evaluate `f` at a point by calculating\n",
    "\n",
    "<pre><code>return integrate.quad(g, 0, toplim)[0]*2/pi</pre></code>\n",
    "\n",
    "That is, `g(alpha)` gets integrated from `0` to `toplim`. So essentially we're looking at Parseval's theorem here. If we don't have the full spectrum (i.e. all of the $\\alpha$'s), we can't reproduce our function!\n",
    "\n",
    "How close are we to reproducing the function entirely? Well, not as close as we might like. Remember, the intiutive argument was that we had to make things continuous and integrate over all values of $\\alpha$ to \"stretch the period out to infinity,\" so the ringing gets kind of ugly:"
   ]
  },
  {
   "cell_type": "code",
   "execution_count": null,
   "metadata": {},
   "outputs": [],
   "source": [
    "xs = linspace(-20,20,400) \n",
    "y = [f(x,200) for x in xs]\n",
    "plt.plot(xs,y)\n",
    "plt.grid()"
   ]
  },
  {
   "cell_type": "code",
   "execution_count": null,
   "metadata": {},
   "outputs": [],
   "source": [
    "xs = linspace(-20,20,4000) \n",
    "y = [f(x,20000) for x in xs]\n",
    "plt.plot(xs,y)\n",
    "plt.grid()"
   ]
  },
  {
   "cell_type": "markdown",
   "metadata": {},
   "source": [
    "So part of the story there is that numerical methods is fully deserving of its own course. Errors accumulate in ways you aren't expecting, and you don't always get better answers by doing the \"obvious\" thing. Let's be happy with"
   ]
  },
  {
   "cell_type": "code",
   "execution_count": null,
   "metadata": {},
   "outputs": [],
   "source": [
    "xs = linspace(-pi,pi,200) \n",
    "y = [f(x,200) for x in xs]\n",
    "plt.plot(xs,y)\n",
    "plt.grid()"
   ]
  },
  {
   "cell_type": "markdown",
   "metadata": {},
   "source": [
    "And now let's approximate a delta distribution. You'll recall\n",
    "\n",
    "$\\delta(x-a) = \\frac{1}{2\\pi}\\int_{-\\infty}^{\\infty}e^{i\\alpha(x-a)}d\\alpha$\n",
    "\n",
    "but you'll also recall that the integral doesn't converge. Let's look at taking a limit."
   ]
  },
  {
   "cell_type": "code",
   "execution_count": null,
   "metadata": {
    "collapsed": true,
    "jupyter": {
     "outputs_hidden": true
    }
   },
   "outputs": [],
   "source": []
  }
 ],
 "metadata": {
  "anaconda-cloud": {},
  "kernelspec": {
   "display_name": "Python 3 (ipykernel)",
   "language": "python",
   "name": "python3"
  },
  "language_info": {
   "codemirror_mode": {
    "name": "ipython",
    "version": 3
   },
   "file_extension": ".py",
   "mimetype": "text/x-python",
   "name": "python",
   "nbconvert_exporter": "python",
   "pygments_lexer": "ipython3",
   "version": "3.10.4"
  }
 },
 "nbformat": 4,
 "nbformat_minor": 4
}
