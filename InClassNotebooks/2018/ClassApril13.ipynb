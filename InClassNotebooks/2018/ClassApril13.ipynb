{
 "cells": [
  {
   "cell_type": "code",
   "execution_count": 15,
   "metadata": {},
   "outputs": [],
   "source": [
    "import numpy as np\n",
    "from matplotlib import pyplot as plt\n",
    "%matplotlib inline"
   ]
  },
  {
   "cell_type": "code",
   "execution_count": 16,
   "metadata": {},
   "outputs": [
    {
     "name": "stdout",
     "output_type": "stream",
     "text": [
      "0 False True\n",
      "1 True False\n",
      "2 False True\n",
      "3 True False\n",
      "4 False True\n",
      "5 True False\n",
      "6 False True\n",
      "7 True False\n",
      "8 False True\n",
      "9 True False\n"
     ]
    }
   ],
   "source": [
    "def isodd(n):\n",
    "    return divmod(n,2)[1] == 1\n",
    "def iseven(n):\n",
    "    return divmod(n,2)[1] == 0\n",
    "for i in range(10):\n",
    "    print(i,isodd(i),iseven(i))"
   ]
  },
  {
   "cell_type": "markdown",
   "metadata": {},
   "source": [
    "## Problem 2"
   ]
  },
  {
   "cell_type": "code",
   "execution_count": 24,
   "metadata": {},
   "outputs": [
    {
     "data": {
      "image/png": "[encoded data removed]",
      "text/plain": [
       "<Figure size 432x288 with 1 Axes>"
      ]
     },
     "metadata": {},
     "output_type": "display_data"
    }
   ],
   "source": [
    "def a(n):\n",
    "    if n == 0:\n",
    "        return 4\n",
    "    else:\n",
    "        return 0\n",
    "def b(n):\n",
    "    if isodd(n):\n",
    "        return -30/(n*np.pi)\n",
    "    else:\n",
    "        return -1/(n*np.pi)\n",
    "\n",
    "def plotseries(n):\n",
    "    x = np.linspace(-4,4,1000)\n",
    "    y = np.zeros_like(x)\n",
    "    for i in range(0,n+1):\n",
    "        if i == 0:\n",
    "            y = y + (1/2)*a(0)\n",
    "        else:\n",
    "            y = y + a(i)*np.cos(i*np.pi*x)\n",
    "            y = y + b(i)*np.sin(i*np.pi*x)\n",
    "    plt.plot(x,y)\n",
    "plotseries(50)"
   ]
  },
  {
   "cell_type": "code",
   "execution_count": 4,
   "metadata": {},
   "outputs": [
    {
     "data": {
      "image/png": "[encoded data removed]",
      "text/plain": [
       "<Figure size 432x288 with 1 Axes>"
      ]
     },
     "metadata": {},
     "output_type": "display_data"
    }
   ],
   "source": [
    "def a(n):\n",
    "    if n == 0:\n",
    "        return 0\n",
    "    else:\n",
    "        return 0\n",
    "def b(n):\n",
    "    if isodd(n):\n",
    "        return -1/n\n",
    "    else:\n",
    "        return 0\n",
    "def plotseries(n):\n",
    "    x = np.linspace(-4,4,1000)\n",
    "    y = np.zeros_like(x)\n",
    "    for i in range(0,n+1):\n",
    "        if i == 0:\n",
    "            y = y + (1/2)*a(0)\n",
    "        else:\n",
    "            y = y + a(i)*np.cos(i*np.pi*x)\n",
    "            y = y + b(i)*np.sin(i*np.pi*x)\n",
    "    plt.plot(x,y)\n",
    "    plt.ylim(-2,2)\n",
    "plotseries(400)"
   ]
  },
  {
   "cell_type": "markdown",
   "metadata": {},
   "source": [
    "## Series solution"
   ]
  },
  {
   "cell_type": "code",
   "execution_count": 35,
   "metadata": {},
   "outputs": [],
   "source": [
    "def an(n):\n",
    "    if n == 0:\n",
    "        return 1\n",
    "    elif n == 1:\n",
    "        return 1\n",
    "    else:\n",
    "        return an(n-1)*n**2"
   ]
  },
  {
   "cell_type": "code",
   "execution_count": 36,
   "metadata": {},
   "outputs": [],
   "source": [
    "def y0(x,n):\n",
    "    result = np.zeros_like(x)\n",
    "    for i in range(0,n+1,2):\n",
    "        result = result + an(i)*x**i\n",
    "    return result\n",
    "\n",
    "def y1(x,n):\n",
    "    result = np.zeros_like(x)\n",
    "    for i in range(1,n+1,2):\n",
    "        result = result + an(i)*x**i\n",
    "    return result"
   ]
  },
  {
   "cell_type": "code",
   "execution_count": 37,
   "metadata": {},
   "outputs": [],
   "source": [
    "def ploty0(n=0):\n",
    "    x = np.linspace(-10,10,1000)\n",
    "    y = y0(x,n)\n",
    "    plt.plot(x,y)\n",
    "    plt.ylim(-10,10)\n",
    "def ploty1(n=0):\n",
    "    x = np.linspace(-10,10,1000)\n",
    "    y = y1(x,n)\n",
    "    plt.plot(x,y)\n",
    "    plt.ylim(-10,10)\n",
    "def plotboth(n=0):\n",
    "    ploty0(n)\n",
    "    ploty1(n)"
   ]
  },
  {
   "cell_type": "code",
   "execution_count": 38,
   "metadata": {},
   "outputs": [],
   "source": [
    "from ipywidgets import interact"
   ]
  },
  {
   "cell_type": "code",
   "execution_count": 39,
   "metadata": {},
   "outputs": [
    {
     "data": {
      "application/vnd.jupyter.widget-view+json": {
       "model_id": "eba00fb4822c4506b6a317b2f86504d8",
       "version_major": 2,
       "version_minor": 0
      },
      "text/html": [
       "<p>Failed to display Jupyter Widget of type <code>interactive</code>.</p>\n",
       "<p>\n",
       "  If you're reading this message in the Jupyter Notebook or JupyterLab Notebook, it may mean\n",
       "  that the widgets JavaScript is still loading. If this message persists, it\n",
       "  likely means that the widgets JavaScript library is either not installed or\n",
       "  not enabled. See the <a href=\"https://ipywidgets.readthedocs.io/en/stable/user_install.html\">Jupyter\n",
       "  Widgets Documentation</a> for setup instructions.\n",
       "</p>\n",
       "<p>\n",
       "  If you're reading this message in another frontend (for example, a static\n",
       "  rendering on GitHub or <a href=\"https://nbviewer.jupyter.org/\">NBViewer</a>),\n",
       "  it may mean that your frontend doesn't currently support widgets.\n",
       "</p>\n"
      ],
      "text/plain": [
       "interactive(children=(IntSlider(value=0, description='n', max=300), Output()), _dom_classes=('widget-interact',))"
      ]
     },
     "metadata": {},
     "output_type": "display_data"
    },
    {
     "data": {
      "text/plain": [
       "<function __main__.plotboth>"
      ]
     },
     "execution_count": 39,
     "metadata": {},
     "output_type": "execute_result"
    }
   ],
   "source": [
    "interact(plotboth,n=(0,300))"
   ]
  },
  {
   "cell_type": "code",
   "execution_count": null,
   "metadata": {},
   "outputs": [],
   "source": []
  }
 ],
 "metadata": {
  "kernelspec": {
   "display_name": "Python 3",
   "language": "python",
   "name": "python3"
  },
  "language_info": {
   "codemirror_mode": {
    "name": "ipython",
    "version": 3
   },
   "file_extension": ".py",
   "mimetype": "text/x-python",
   "name": "python",
   "nbconvert_exporter": "python",
   "pygments_lexer": "ipython3",
   "version": "3.6.4"
  }
 },
 "nbformat": 4,
 "nbformat_minor": 2
}
