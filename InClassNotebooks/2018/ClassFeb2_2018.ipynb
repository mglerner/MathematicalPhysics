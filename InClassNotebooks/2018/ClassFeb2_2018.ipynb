{
 "cells": [
  {
   "cell_type": "markdown",
   "metadata": {},
   "source": [
    "Time to talk Bessel!\n",
    "\n",
    "First, let's set up our basic environment"
   ]
  },
  {
   "cell_type": "code",
   "execution_count": 1,
   "metadata": {},
   "outputs": [],
   "source": [
    "import numpy as np\n",
    "from matplotlib import pyplot as plt\n",
    "from scipy.special import gamma\n",
    "%matplotlib inline"
   ]
  },
  {
   "cell_type": "markdown",
   "metadata": {},
   "source": [
    "Now, let's define the solutions to Bessel's equation. We have (12.9)\n",
    "\n",
    "$J_p(x) = \\sum_{n=0}^\\infty \\frac{(-1)^n}{\\Gamma(n+1)\\Gamma(n+1+p)} \\left(\\frac{x}{2} \\right)^{2n+p}$\n",
    "\n",
    "And we'll do our normal thing, whwere we make up a bunch of points upon which to calculate our function, then start with zero and add terms."
   ]
  },
  {
   "cell_type": "markdown",
   "metadata": {},
   "source": [
    "First, a bit of programming syntax, `+=`"
   ]
  },
  {
   "cell_type": "code",
   "execution_count": 2,
   "metadata": {},
   "outputs": [
    {
     "name": "stdout",
     "output_type": "stream",
     "text": [
      "4\n"
     ]
    }
   ],
   "source": [
    "thing = 2\n",
    "thing = thing + 2\n",
    "print(thing)"
   ]
  },
  {
   "cell_type": "code",
   "execution_count": 3,
   "metadata": {},
   "outputs": [
    {
     "name": "stdout",
     "output_type": "stream",
     "text": [
      "8\n"
     ]
    }
   ],
   "source": [
    "thingything = 6\n",
    "thingything += 2 # += means thing = thing + 2.\n",
    "print(thingything)"
   ]
  },
  {
   "cell_type": "markdown",
   "metadata": {},
   "source": [
    "Now, let's define a function to calculate bessel functions, just exactly implementing the mathematical definition above"
   ]
  },
  {
   "cell_type": "code",
   "execution_count": 4,
   "metadata": {},
   "outputs": [],
   "source": [
    "def Jp(p,x,N):\n",
    "    result = 0\n",
    "    for n in range(0,N+1):\n",
    "        #result = result + new stuff, for term n\n",
    "        result += ((x/2)**(2*n+p)) * ((-1)**n)/(gamma(n+1)*gamma(n+1+p))\n",
    "    return result"
   ]
  },
  {
   "cell_type": "code",
   "execution_count": 5,
   "metadata": {},
   "outputs": [
    {
     "data": {
      "text/plain": [
       "0.1320406436920166"
      ]
     },
     "execution_count": 5,
     "metadata": {},
     "output_type": "execute_result"
    }
   ],
   "source": [
    "Jp(4,3,4)"
   ]
  },
  {
   "cell_type": "markdown",
   "metadata": {},
   "source": [
    "Cool. That gives us back the value at one point. Using numpy arrays, we can get a range of values, so that we can plot them."
   ]
  },
  {
   "cell_type": "code",
   "execution_count": 6,
   "metadata": {},
   "outputs": [],
   "source": [
    "def Jp(p,x,N):\n",
    "    result = np.zeros_like(x)\n",
    "    for n in range(0,N+1):\n",
    "        #result = result + new stuff, for term n\n",
    "        result += ((x/2)**(2*n+p)) * ((-1)**n)/(gamma(n+1)*gamma(n+1+p))\n",
    "    return result"
   ]
  },
  {
   "cell_type": "code",
   "execution_count": 7,
   "metadata": {},
   "outputs": [
    {
     "data": {
      "text/plain": [
       "[<matplotlib.lines.Line2D at 0x115d2d2e8>]"
      ]
     },
     "execution_count": 7,
     "metadata": {},
     "output_type": "execute_result"
    },
    {
     "data": {
      "image/png": "[encoded data removed]",
      "text/plain": [
       "<matplotlib.figure.Figure at 0x11124e278>"
      ]
     },
     "metadata": {},
     "output_type": "display_data"
    }
   ],
   "source": [
    "x = np.linspace(0,10,1000)\n",
    "plt.plot(x,Jp(4,x,7))"
   ]
  },
  {
   "cell_type": "markdown",
   "metadata": {},
   "source": [
    "## Make it interactive\n",
    "\n",
    "Here's one of the things that's just amazingly useful about Jupyter notebooks. I'd like to interact with teh above thing."
   ]
  },
  {
   "cell_type": "code",
   "execution_count": 8,
   "metadata": {},
   "outputs": [],
   "source": [
    "from ipywidgets import interact, fixed"
   ]
  },
  {
   "cell_type": "code",
   "execution_count": 9,
   "metadata": {},
   "outputs": [],
   "source": [
    "def plotJ(p,N):\n",
    "    x = np.linspace(0,10,1000)\n",
    "    plt.plot(x,Jp(p,x,N))"
   ]
  },
  {
   "cell_type": "code",
   "execution_count": 10,
   "metadata": {},
   "outputs": [
    {
     "data": {
      "image/png": "[encoded data removed]",
      "text/plain": [
       "<matplotlib.figure.Figure at 0x115cf4ac8>"
      ]
     },
     "metadata": {},
     "output_type": "display_data"
    }
   ],
   "source": [
    "plotJ(4,9)"
   ]
  },
  {
   "cell_type": "code",
   "execution_count": 11,
   "metadata": {},
   "outputs": [
    {
     "data": {
      "application/vnd.jupyter.widget-view+json": {
       "model_id": "29fbc44c369b4a5e80c75f29c52029ed",
       "version_major": 2,
       "version_minor": 0
      },
      "text/html": [
       "<p>Failed to display Jupyter Widget of type <code>interactive</code>.</p>\n",
       "<p>\n",
       "  If you're reading this message in the Jupyter Notebook or JupyterLab Notebook, it may mean\n",
       "  that the widgets JavaScript is still loading. If this message persists, it\n",
       "  likely means that the widgets JavaScript library is either not installed or\n",
       "  not enabled. See the <a href=\"https://ipywidgets.readthedocs.io/en/stable/user_install.html\">Jupyter\n",
       "  Widgets Documentation</a> for setup instructions.\n",
       "</p>\n",
       "<p>\n",
       "  If you're reading this message in another frontend (for example, a static\n",
       "  rendering on GitHub or <a href=\"https://nbviewer.jupyter.org/\">NBViewer</a>),\n",
       "  it may mean that your frontend doesn't currently support widgets.\n",
       "</p>\n"
      ],
      "text/plain": [
       "interactive(children=(IntSlider(value=0, description='p', max=5, min=-5), IntSlider(value=15, description='N', max=30), Output()), _dom_classes=('widget-interact',))"
      ]
     },
     "metadata": {},
     "output_type": "display_data"
    },
    {
     "data": {
      "text/plain": [
       "<function __main__.plotJ>"
      ]
     },
     "execution_count": 11,
     "metadata": {},
     "output_type": "execute_result"
    }
   ],
   "source": [
    "interact(plotJ,p=(-5,5),N=(0,30))"
   ]
  },
  {
   "cell_type": "markdown",
   "metadata": {},
   "source": [
    "Oh, now I'd like to mess around with the x axis, so I can see what happens farther out."
   ]
  },
  {
   "cell_type": "code",
   "execution_count": 12,
   "metadata": {},
   "outputs": [
    {
     "data": {
      "application/vnd.jupyter.widget-view+json": {
       "model_id": "8c8214ea5ed244c19a703ed89537a726",
       "version_major": 2,
       "version_minor": 0
      },
      "text/html": [
       "<p>Failed to display Jupyter Widget of type <code>interactive</code>.</p>\n",
       "<p>\n",
       "  If you're reading this message in the Jupyter Notebook or JupyterLab Notebook, it may mean\n",
       "  that the widgets JavaScript is still loading. If this message persists, it\n",
       "  likely means that the widgets JavaScript library is either not installed or\n",
       "  not enabled. See the <a href=\"https://ipywidgets.readthedocs.io/en/stable/user_install.html\">Jupyter\n",
       "  Widgets Documentation</a> for setup instructions.\n",
       "</p>\n",
       "<p>\n",
       "  If you're reading this message in another frontend (for example, a static\n",
       "  rendering on GitHub or <a href=\"https://nbviewer.jupyter.org/\">NBViewer</a>),\n",
       "  it may mean that your frontend doesn't currently support widgets.\n",
       "</p>\n"
      ],
      "text/plain": [
       "interactive(children=(IntSlider(value=4, description='p', max=5, min=-5), IntSlider(value=10, description='N', max=300, step=10), IntSlider(value=10, description='xmax', min=10, step=10), Output()), _dom_classes=('widget-interact',))"
      ]
     },
     "metadata": {},
     "output_type": "display_data"
    },
    {
     "data": {
      "text/plain": [
       "<function __main__.plotJ>"
      ]
     },
     "execution_count": 12,
     "metadata": {},
     "output_type": "execute_result"
    }
   ],
   "source": [
    "def plotJ(p=4,N=10,xmax=10):\n",
    "    x = np.linspace(0,xmax,1000)\n",
    "    plt.plot(x,Jp(p,x,N))\n",
    "interact(plotJ,p=(-5,5),N=(0,300,10),xmax=(10,100,10))"
   ]
  },
  {
   "cell_type": "markdown",
   "metadata": {},
   "source": [
    "We learned a few interesting lessons from the above, especially about numerical issues. Among them\n",
    "\n",
    " ** Adding more terms doesn't always help. It sometimes leads to numerical instability **\n",
    " \n",
    "We also noticed that sometimes the `xmax` parameter didn't work. Here's an example, where we should be going from 0 to 60, but it looks like we only go from 0 to about 37:"
   ]
  },
  {
   "cell_type": "code",
   "execution_count": 13,
   "metadata": {},
   "outputs": [
    {
     "name": "stderr",
     "output_type": "stream",
     "text": [
      "/Users/mglerner/anaconda3/lib/python3.6/site-packages/ipykernel_launcher.py:5: RuntimeWarning: overflow encountered in double_scalars\n",
      "  \"\"\"\n",
      "/Users/mglerner/anaconda3/lib/python3.6/site-packages/ipykernel_launcher.py:5: RuntimeWarning: overflow encountered in power\n",
      "  \"\"\"\n",
      "/Users/mglerner/anaconda3/lib/python3.6/site-packages/ipykernel_launcher.py:5: RuntimeWarning: invalid value encountered in true_divide\n",
      "  \"\"\"\n"
     ]
    },
    {
     "data": {
      "text/plain": [
       "[<matplotlib.lines.Line2D at 0x1162ceba8>]"
      ]
     },
     "execution_count": 13,
     "metadata": {},
     "output_type": "execute_result"
    },
    {
     "data": {
      "image/png": "[encoded data removed]",
      "text/plain": [
       "<matplotlib.figure.Figure at 0x116221240>"
      ]
     },
     "metadata": {},
     "output_type": "display_data"
    }
   ],
   "source": [
    "xmax=60\n",
    "x = np.linspace(0,xmax,1000)\n",
    "jpx = Jp(p=4,x=x,N=120)\n",
    "plt.plot(x,jpx)"
   ]
  },
  {
   "cell_type": "markdown",
   "metadata": {},
   "source": [
    "Our first hint is that we're getting a bunch of errors about division. Let's look at the data, but maybe with only 100 data points:"
   ]
  },
  {
   "cell_type": "code",
   "execution_count": 14,
   "metadata": {},
   "outputs": [
    {
     "name": "stderr",
     "output_type": "stream",
     "text": [
      "/Users/mglerner/anaconda3/lib/python3.6/site-packages/ipykernel_launcher.py:5: RuntimeWarning: overflow encountered in double_scalars\n",
      "  \"\"\"\n",
      "/Users/mglerner/anaconda3/lib/python3.6/site-packages/ipykernel_launcher.py:5: RuntimeWarning: overflow encountered in power\n",
      "  \"\"\"\n",
      "/Users/mglerner/anaconda3/lib/python3.6/site-packages/ipykernel_launcher.py:5: RuntimeWarning: invalid value encountered in true_divide\n",
      "  \"\"\"\n"
     ]
    },
    {
     "data": {
      "text/plain": [
       "[<matplotlib.lines.Line2D at 0x116394c18>]"
      ]
     },
     "execution_count": 14,
     "metadata": {},
     "output_type": "execute_result"
    },
    {
     "data": {
      "image/png": "[encoded data removed]",
      "text/plain": [
       "<matplotlib.figure.Figure at 0x1162ad940>"
      ]
     },
     "metadata": {},
     "output_type": "display_data"
    }
   ],
   "source": [
    "xmax=60\n",
    "x = np.linspace(0,xmax,100)\n",
    "jpx = Jp(p=4,x=x,N=120)\n",
    "plt.plot(x,jpx)"
   ]
  },
  {
   "cell_type": "code",
   "execution_count": 15,
   "metadata": {},
   "outputs": [
    {
     "data": {
      "text/plain": [
       "array([  0.00000000e+00,   3.44940926e-04,   5.22096514e-03,\n",
       "         2.40664819e-02,   6.65339297e-02,   1.36091528e-01,\n",
       "         2.25423608e-01,   3.15873664e-01,   3.81693429e-01,\n",
       "         3.98003178e-01,   3.49821676e-01,   2.38882378e-01,\n",
       "         8.54950626e-02,  -7.57050339e-02,  -2.05182063e-01,\n",
       "        -2.70280032e-01,  -2.55555322e-01,  -1.68150334e-01,\n",
       "        -3.62132591e-02,   9.93759986e-02,   1.97473860e-01,\n",
       "         2.29377965e-01,   1.87652029e-01,   8.81710309e-02,\n",
       "        -3.53081757e-02,  -1.42285297e-01,  -1.98709142e-01,\n",
       "        -1.87891328e-01,  -1.15575286e-01,  -7.55204470e-03,\n",
       "         9.92967049e-02,   1.69466108e-01,   1.80603699e-01,\n",
       "         1.30670932e-01,   3.81659697e-02,  -6.45526287e-02,\n",
       "        -1.42476958e-01,  -1.69834237e-01,  -1.38612833e-01,\n",
       "        -6.08985220e-02,   3.56636831e-02,   1.17618257e-01,\n",
       "         1.57240135e-01,   1.41902413e-01,   7.80938930e-02,\n",
       "        -1.11800516e-02,  -9.46328157e-02,  -1.43609323e-01,\n",
       "        -1.41907450e-01,  -9.11032634e-02,  -9.80744916e-03,\n",
       "         7.33022405e-02,   1.29222824e-01,   1.39285150e-01,\n",
       "         1.00415471e-01,   2.72134954e-02,  -5.29043432e-02,\n",
       "        -1.13522175e-01,  -1.36416998e-01,  -1.16155657e-01,\n",
       "        -4.74414185e-02,              nan,              nan,\n",
       "                    nan,              nan,              nan,\n",
       "                    nan,              nan,              nan,\n",
       "                    nan,              nan,              nan,\n",
       "                    nan,              nan,              nan,\n",
       "                    nan,              nan,              nan,\n",
       "                    nan,              nan,              nan,\n",
       "                    nan,              nan,              nan,\n",
       "                    nan,              nan,              nan,\n",
       "                    nan,              nan,              nan,\n",
       "                    nan,              nan,              nan,\n",
       "                    nan,              nan,              nan,\n",
       "                    nan,              nan,              nan,\n",
       "                    nan])"
      ]
     },
     "execution_count": 15,
     "metadata": {},
     "output_type": "execute_result"
    }
   ],
   "source": [
    "jpx"
   ]
  },
  {
   "cell_type": "markdown",
   "metadata": {},
   "source": [
    "All of those \"`nan`\"s at the end are what happened when we tried to divide by zero. By default, those get ignored during plotting. Here, ignoring them means stopping the plot early. Cool."
   ]
  }
 ],
 "metadata": {
  "kernelspec": {
   "display_name": "Python 3",
   "language": "python",
   "name": "python3"
  },
  "language_info": {
   "codemirror_mode": {
    "name": "ipython",
    "version": 3
   },
   "file_extension": ".py",
   "mimetype": "text/x-python",
   "name": "python",
   "nbconvert_exporter": "python",
   "pygments_lexer": "ipython3",
   "version": "3.6.1"
  },
  "widgets": {
   "application/vnd.jupyter.widget-state+json": {
    "state": {
     "29fbc44c369b4a5e80c75f29c52029ed": {
      "model_module": "@jupyter-widgets/controls",
      "model_module_version": "1.0.0",
      "model_name": "VBoxModel",
      "state": {
       "_dom_classes": [
        "widget-interact"
       ],
       "children": [
        "IPY_MODEL_76ce2bb1326248f7959028b9d9a52fe5",
        "IPY_MODEL_82ccb0108dce4b8889f44d2e2d170f84",
        "IPY_MODEL_78242594836c4b52a1aef5e081179792"
       ],
       "layout": "IPY_MODEL_50d71ad00dc3491fbf007101caf0b2d2"
      }
     },
     "34474d7066be402781f0257c6835232a": {
      "model_module": "@jupyter-widgets/controls",
      "model_module_version": "1.0.0",
      "model_name": "IntSliderModel",
      "state": {
       "description": "N",
       "layout": "IPY_MODEL_a773bf20a983472dafdf9ff1d76eaa81",
       "max": 300,
       "step": 10,
       "style": "IPY_MODEL_7f57389910424673ba42e8bae4c4d159",
       "value": 70
      }
     },
     "41fb6149f1d34230a5d50b0cab347250": {
      "model_module": "@jupyter-widgets/controls",
      "model_module_version": "1.0.0",
      "model_name": "SliderStyleModel",
      "state": {
       "description_width": ""
      }
     },
     "473e6683dc6d4fda8d418d2c5293e20e": {
      "model_module": "@jupyter-widgets/controls",
      "model_module_version": "1.0.0",
      "model_name": "SliderStyleModel",
      "state": {
       "description_width": ""
      }
     },
     "474043489e4a4915a35cfe1ddd946ac2": {
      "model_module": "@jupyter-widgets/controls",
      "model_module_version": "1.0.0",
      "model_name": "SliderStyleModel",
      "state": {
       "description_width": ""
      }
     },
     "50d71ad00dc3491fbf007101caf0b2d2": {
      "model_module": "@jupyter-widgets/base",
      "model_module_version": "1.0.0",
      "model_name": "LayoutModel",
      "state": {}
     },
     "53cb5fdf06fd4a6aa8676c973372b435": {
      "model_module": "@jupyter-widgets/base",
      "model_module_version": "1.0.0",
      "model_name": "LayoutModel",
      "state": {}
     },
     "610e5444c27a4ea0b969351a85dec091": {
      "model_module": "@jupyter-widgets/base",
      "model_module_version": "1.0.0",
      "model_name": "LayoutModel",
      "state": {}
     },
     "6bb9bb17181041d4a557c4b376a0ddbf": {
      "model_module": "@jupyter-widgets/base",
      "model_module_version": "1.0.0",
      "model_name": "LayoutModel",
      "state": {}
     },
     "76ce2bb1326248f7959028b9d9a52fe5": {
      "model_module": "@jupyter-widgets/controls",
      "model_module_version": "1.0.0",
      "model_name": "IntSliderModel",
      "state": {
       "description": "p",
       "layout": "IPY_MODEL_eb8a92de7c764fe0b96d7ab3d30e69ac",
       "max": 5,
       "min": -5,
       "style": "IPY_MODEL_41fb6149f1d34230a5d50b0cab347250"
      }
     },
     "772b0a34aa134eed94a615a5b8553674": {
      "model_module": "@jupyter-widgets/base",
      "model_module_version": "1.0.0",
      "model_name": "LayoutModel",
      "state": {}
     },
     "78242594836c4b52a1aef5e081179792": {
      "model_module": "@jupyter-widgets/output",
      "model_module_version": "1.0.0",
      "model_name": "OutputModel",
      "state": {
       "layout": "IPY_MODEL_53cb5fdf06fd4a6aa8676c973372b435",
       "outputs": [
        {
         "data": {
          "image/png": "iVBORw0KGgoAAAANSUhEUgAAAX8AAAD8CAYAAACfF6SlAAAABHNCSVQICAgIfAhkiAAAAAlwSFlz\nAAALEgAACxIB0t1+/AAAADl0RVh0U29mdHdhcmUAbWF0cGxvdGxpYiB2ZXJzaW9uIDIuMS4wLCBo\ndHRwOi8vbWF0cGxvdGxpYi5vcmcvpW3flQAAIABJREFUeJzt3XlclWX+//HXh11QQQQBAQUVF9wF\nzSxN00yttFIbLc0ay/ZlaqbMZmqmZaaa6dsyraZtZpmplaVtWo3mjpoKbhBuKAqKggrIdv3+APsZ\n4Qb34T7L5/l48OCcw9V9fc4jfHOf+74WMcaglFLKs3jZXYBSSqn6p+GvlFIeSMNfKaU8kIa/Ukp5\nIA1/pZTyQBr+SinlgTT8lVLKA2n4K6WUB9LwV0opD+RjdwGnExYWZuLi4uwuQymlXMratWsPGmPC\nz9bOacM/Li6OlJQUu8tQSimXIiK7zqWdXvZRSikPpOGvlFIeSMNfKaU8kIa/Ukp5IA1/pZTyQJaE\nv4i8LSI5IpJ6mp+LiLwsIhkislFEeljRr1JKqdqx6sz/XWDIGX4+FEio+poEvG5Rv0oppWrBknH+\nxpglIhJ3hiYjgPdN5Z6RK0UkRESijDHZVvR/qhNl5by0KJ2QQF9Cg/xpH9mIdpGN8PXWK1xKKXVS\nfU3yigb2nPI8q+q134S/iEyi8pMBLVq0qFVH+YWlvLkkk/KK/783cZCfN4M7RnJtj2gubhOGiNTq\n2Eop5S7qK/xrStvf7RxvjJkKTAVITk6u1c7yzRoHkPH0UI6dKCPn6AlS9+azPOMQX6ft59P1e+kc\nHcwDg9syoF2z2hxeKaXcQn1dC8kCYk95HgPsc1RnIkKjAF9ahzdkRLdonh3VhdWPDuS5kV0oKC7l\n5nfWcMcHazlQUOyoEpRSyqnVV/jPB26sGvXTG8h3xPX+M/H38ea6nrF896dL+Mvl7fh+aw7DXlrK\nku259VmGUko5BauGen4ErADaiUiWiEwUkdtF5PaqJguBTCADeAu404p+a8PPx4u7BrRhwb0X07Sh\nHxPeWc1bSzLtKkcppWwhlQNwnE9ycrJx9KqeRSXl/HnOBhZszGbixfE8OqwDXl56M1gp5bpEZK0x\nJvls7Zx2Sef60MDPm/+O6U54Q3+m/7SDgqJSnh3ZRf8AKKXcnkeHP4CXl/D4VYk0DvDh5e8zCPTz\n5u/DO+pwUKWUW/P48IfK0UF/uqwtRaXlvLV0B40b+PLg4HZ2l6WUUg6j4V9FRJgyrAMFRWX89/sM\nWoUHcU33GLvLUkoph9A1D04hIjx5dSd6twrl4TmbWLvrsN0lKaWUQ2j4V+Pn48XrNyQRFRLA7R+s\n5eCxE3aXpJRSltPwr0GTID/eGJdEflEpD8zeQEWFcw6HVUqp2tLwP40OUY15/KpElmzP5U2dBKaU\ncjMa/mdwfa8WXNEliv98u42f9xyxuxyllLKMhv8ZiAj/urYzzRr585dPNnCirNzukpRSyhIa/mfR\nOMCXf13bmfScY7y8ON3ucpRSyhIa/uegf7tmjE6K4Y3/ZbIxSy//KKVcn4b/OfrrlYmENfTj4bmb\nKCuvsLscpZSqEw3/cxTcwJfHr+rIluwCZq7abXc5SilVJxr+52Fop0j6JoTxn2+3kXtUJ38ppVyX\nhv95EBH+PrwjxaXlPPPVVrvLUUqpWtPwP0+twxtyS99WzF2XxdpdeXaXo5RStaLhXwv3XNqGiMb+\nPLVgC866E5pSSp2Jhn8tBPr58OBl7Vi/+whfpe63uxyllDpvVm3gPkREtolIhohMruHnLUTkBxFZ\nLyIbRWSYFf3aaWRSDO0iGvHs11spKdOhn0op11Ln8BcRb+BVYCiQCIwVkcRqzf4KzDbGdAfGAK/V\ntV+7eXsJk4e1Z9ehQj5ctcvucpRS6rxYcebfC8gwxmQaY0qAWcCIam0M0LjqcTCwz4J+bde/bTgX\ntWnKS4vTOVpcanc5Sil1zqwI/2hgzynPs6peO9XfgXEikgUsBO6p6UAiMklEUkQkJTc314LSHEtE\nmDykA4cLS3ln2U67y1FKqXNmRfhLDa9VHwIzFnjXGBMDDANmiMjv+jbGTDXGJBtjksPDwy0ozfE6\nxwRzWWIE05Zmkl+kZ/9KKddgRfhnAbGnPI/h95d1JgKzAYwxK4AAIMyCvp3C/YMSKCgu4+2fdthd\nilJKnRMrwn8NkCAi8SLiR+UN3fnV2uwGBgKISAcqw9/5r+uco47NgxnSMZK3f9pBfqGe/SulnF+d\nw98YUwbcDXwDbKFyVE+aiDwhIsOrmj0I3CoiG4CPgJuMm82Oum9QAkdPlDHtJ93yUSnl/HysOIgx\nZiGVN3JPfe2xUx5vBi6yoi9n1SGqMVd0juKdZTv540XxNAnys7skpZQ6LZ3ha6F7ByZw7EQZ76/Q\ncf9KKeem4W+hdpGNGNShGe8u30FhSZnd5Sil1Glp+Fvsjv6tOVxYysdr9py9sVJK2UTD32JJLUPp\nFRfKW0syKdXtHpVSTkrD3wHuGNCaffnFzP/ZLVaxUEq5IQ1/B+jfNpz2kY1443+/UFHhViNalVJu\nQsPfAUSEO/q3Jj3nGIu2HLC7HKWU+h0Nfwe5onMUMU0aME2XfFBKOSENfwfx8fbipj5xrN6RR+re\nfLvLUUqp39Dwd6DresYS5OfN28v07F8p5Vw0/B2ocYAvo5Nj+WLDPnKOFttdjlJK/UrD38Fu6hNH\nWYXhg5W77S5FKaV+peHvYHFhQQxsH8HMlbsoLi23uxyllAI0/OvFHy+O49DxEp30pZRyGhr+9eDC\nVk1pH9mIt5ftwM22MVBKuSgN/3ogIvzx4ni27j/KisxDdpejlFIa/vVleNfmhAT6MlNv/CqlnICG\nfz0J8PVmdFIM36TtJ6dAh30qpeyl4V+PbrigJWUVhlm61r9SymaWhL+IDBGRbSKSISKTT9PmOhHZ\nLCJpIvKhFf26mriwIPq1DefDVbsp07X+lVI2qnP4i4g38CowFEgExopIYrU2CcAjwEXGmI7A/XXt\n11WNu6AF+wuKWbQlx+5SlFIezIoz/15AhjEm0xhTAswCRlRrcyvwqjHmMIAxxmOT79L2zWgeHMDM\nVbrJu1LKPlaEfzRw6kXsrKrXTtUWaCsiy0RkpYgMsaBfl+Tj7cXYXi1Ymn6QzNxjdpejlPJQVoS/\n1PBa9ZlMPkAC0B8YC0wTkZDfHUhkkoikiEhKbm6uBaU5pz/0isXHS5i5Sod9KqXsYUX4ZwGxpzyP\nAaqvY5AFfG6MKTXG7AC2UfnH4DeMMVONMcnGmOTw8HALSnNOzRoFMKRTJJ+k7KGoRNf7UUrVPyvC\nfw2QICLxIuIHjAHmV2vzGTAAQETCqLwMlGlB3y7rhgtaUlBcxsJN2XaXopTyQHUOf2NMGXA38A2w\nBZhtjEkTkSdEZHhVs2+AQyKyGfgB+IsxxqPXOejdKpT4sCA+1jH/Sikb+FhxEGPMQmBhtdceO+Wx\nAR6o+lJUrvfzh56xPPPVVjJyjtGmWUO7S1JKeRCd4WujkT1i8PESZqfo2b9Sqn5p+NsovJE/gzpE\nMHdtFiVlOuNXKVV/NPxt9odesRw6XsKiLQfsLkUp5UE0/G3WLyGc5sEBfLRax/wrpeqPhr/NvL2E\n0cmx/JRxkD15hXaXo5TyEBr+TuC6npVz5D7RG79KqXqi4e8EokMa0C8hnNkpWZRX6B6/SinH0/B3\nEmN7xbK/oJj/bffYBU+VUvVIw99JXNo+grCGfsxarZd+lFKOp+HvJPx8vBiZFMPirTnkHNU9fpVS\njqXh70RGJ8VSXmH4fH31RVGVUspaGv5OpE2zhnRvEcIna/dQuRySUko5hoa/kxmdFMv2A8fYtDff\n7lKUUm5Mw9/JXNk1Cn8fLz5JybK7FKWUG9PwdzKNA3wZ0imSz3/eS3Gp7vKllHIMDX8nNDoploLi\nMl3sTSnlMBr+TujC1k1pHhygl36UUg6j4e+EvL2EkUkxLE3PZX++jvlXSllPw99JjewRQ4WBeev1\n7F8pZT1Lwl9EhojINhHJEJHJZ2g3SkSMiCRb0a87iwsLoldcKHNSsnTMv1LKcnUOfxHxBl4FhgKJ\nwFgRSayhXSPgXmBVXfv0FKOSY8g8eJx1u4/YXYpSys1YcebfC8gwxmQaY0qAWcCIGto9CTwH6EXs\nczSscxQNfL2Zs1YXe1NKWcuK8I8GTk2nrKrXfiUi3YFYY8yXFvTnMRr6+zCscxRfbMimqETH/Cul\nrGNF+EsNr/16kVpEvIAXgAfPeiCRSSKSIiIpubm5FpTm+kYnx3DsRBnfpO23uxSllBuxIvyzgNhT\nnscApy5L2QjoBPwoIjuB3sD8mm76GmOmGmOSjTHJ4eHhFpTm+nrFhRIb2oBP9NKPUspCVoT/GiBB\nROJFxA8YA8w/+UNjTL4xJswYE2eMiQNWAsONMSkW9O32vLyEUT1iWf7LIbIO6wbvSilr1Dn8jTFl\nwN3AN8AWYLYxJk1EnhCR4XU9voJre0RjDMxbt9fuUpRSbsLHioMYYxYCC6u99thp2va3ok9PEhsa\nSJ/WTZmzNot7Lm2DSE23WZRS6tzpDF8XMSopht15hazZedjuUpRSbkDD30UM6RRJkJ+O+VdKWUPD\n30UE+vlwRZcoFmzMprCkzO5ylFIuTsPfhYxKiuV4STlfp+qYf6VU3Wj4u5CecU1o2TSQOWt1pU+l\nVN1o+LsQEWFUjxgd86+UqjMNfxdzbVIMIjB3rY75V0rVnoa/i4kOaVA55n/dHioqdJ1/pVTtWDLJ\nS9WvUUkx/OnjDazZmccFrZraXY5yI8YYducVsmpHHluzj7Lz0HEOFBRTVFJOaUUFQX4+NA7wpUXT\nQFqFB9GjRRO6xYYQ4Ottd+nqPGn4u6DLO0bS0D+NOWuzNPyVJdL25TP/5318uTGbvUeKAGjg601c\nWBBRwQEE+fvg4yUcP1HGkcJSlmzP/XXggZ+3F30TwriyaxSXJUbS0F9jxRXo/yUXFOjnwxWdo/hi\n4z7+PrwjQfqPTdVCeYVh0ZYDTF+6g9U78/DxEvomhHF7/9b0jg+ldXhDvLxOv5TIkcISUnYeZvkv\nh/g6NZvFW3No6J/G6OQYbu4TT4umgfX4btT5EmfdHzY5OdmkpOjCn6ezZmceo99YwfOjuzIyKcbu\ncpSL+Sn9IE8v3MKW7AKiQxpw80VxjEqKISTQr1bHq6gwrNt9mA9W7uLLjdlUGFN5efKytkQFN7C4\nenUmIrLWGHPWfdI1/F2UMYb+//mR5sEN+GhSb7vLUS5i35Ei/vZZKou35hAd0oC/XN6OK7tE4eNt\n3diP/fnFTF2SyQcrdyECt/VrxZ0D2uh9gXpyruGvo31c1Mkx/ysyD7EnT8f8qzMzxvDxmt1c/sIS\nlv9yiMlD27P4wUu4unu0pcEPEBkcwGNXJbL4wUu4vGMkL3+fwbCXl7J6R56l/ai60fB3YSfH/Os6\n/+pMjhaXcteH63h47iYSmzfm6/v7cvslrR1+Jh4bGsjLY7vz/h97UVJWwXVvruDJLzdTUlbh0H7V\nudHwd2HRIQ24qHWYjvlXp7X9wFFGvLqMb9IO8MjQ9nx0a29aNg2q1xr6tQ3n2z/1Y3zvlkz/aQej\n3ljO7kP6adVuGv4ublRSDHvyili9Uz9Sq9/6YWsOV7+6jIKiMmbecgG3XdL6jKN3HCnQz4cnr+7E\nG+N6sOPgca54eSk/bM2xpRZVScPfxVWO+ffRxd7Ub8xes4db3k8hPiyIBfdeTG8nmQ8ypFMUC+/t\nS4umgUx8bw3TlmbirINO3J2Gv4tr4OfNlV2iWLgpm+MndJ1/Bf9dnM5DczfSp3VTPr7tQiIaB9hd\n0m/Ehgbyye0XMjgxkqcWbGHKp5soLdf7APXNkvAXkSEisk1EMkRkcg0/f0BENovIRhFZLCItrehX\nVRqVFENhSTlf6Tr/Hu+F77bz/HfbuaZ7NNMn9HTa2baBfj68dkMP7hrQmo9W7+H2GWspLi23uyyP\nUufwFxFv4FVgKJAIjBWRxGrN1gPJxpguwBzgubr2q/6/pJZNiGsaqFs8ergXvtvOS4vTGZ0Uw/Oj\nu+Ln49wf7L28hL9c3p6nru7E99tyuPHt1RQUl9pdlsew4rejF5BhjMk0xpQAs4ARpzYwxvxgjDl5\ne38loFNSLSQijEqKYWVmno7591AvLUrnpcXpjEqK4dmRXWy7sVsb43q35KUx3Vm36zBjp64k73iJ\n3SV5BCvCPxo49ZQzq+q105kIfGVBv+oU1/aoWud/nd749TQzVuzkhUXbubZHtMsF/0nDuzbnrRuT\nycg5xg3TVnGkUP8AOJoV4V/Tb1qNt+9FZByQDPz7ND+fJCIpIpKSm5trQWmeo3lIAy5uE8actVk6\n5t+DfJ2azWPz0xjYvhnPjeyCtwsG/0kD2jfjrRuT+SX3GOOmryK/UC8BOZIV4Z8FxJ7yPAbYV72R\niAwCHgWGG2NO1HQgY8xUY0yyMSY5PDzcgtI8y6ikGLIOF7FKp9F7hNU78rh31s90iw3hlet7WL5M\ngx36tQ3nzXFJbN9/jPFvryK/SP8AOIoVvy1rgAQRiRcRP2AMMP/UBiLSHXiTyuDXmR0OMjgxkkY6\n5t8j7Dx4nFvfTyGmSQOmT+hJAz/3WTRtQPtmvHZDD7ZkFzDx3TUUlegoIEeoc/gbY8qAu4FvgC3A\nbGNMmog8ISLDq5r9G2gIfCIiP4vI/NMcTtVBAz9vruwaxVepOubfnR0tLuWW91MQgXdv6kVoUO2W\nYXZmgxIjeGlMd9buPsw9H62jTOcBWM6Sz4nGmIXGmLbGmNbGmKerXnvMGDO/6vEgY0yEMaZb1dfw\nMx9R1dbJMf8LN2XbXYpygPIKw/2zfmbHweO8dkMPt94wZVjnKJ4Y0YlFW3KY8ukmnQlsMde/SKh+\no0eLJsSHBemlHzf1/LfbWLw1h8evSqRP6zC7y3G48b1bct/ABGanZPHvb7bZXY5b0fB3MyfH/K/a\nkacrJ7qZrzZl89qPvzC2VwvG9/acSfL3D0rg+gta8NqPv/Dush12l+M2NPzd0DXdo3XMv5vZdeg4\nD83ZSLfYEP4xvCMirjuk83yJCE+O6MTgxAie+HIzi7ccsLskt6Dh74ZOjvmfu07H/LuD4tJy7py5\nDi8v4ZXruzv9sg2O4O0lvDimGx2bB3PPR+vZvK/A7pJcnuf9FnmIk2P+V+44ZHcpqo6eXrCFtH0F\nPD+6KzFN3PcG79kE+vkwbUIywQ18mfjeGnIKiu0uyaVp+LupyzvqmH938MWGfcxYuYtb+8YzKDHC\n7nJsF9E4gGkTkskvqhzuqnMAak/D300F+HpzZdfmfLVpP8d0zL9L2pNXyCPzNtG9RQgPDWlvdzlO\no2PzYF4e051Ne/P508c/66XNWtLwd2Ojk2MoKi3niw2/W21DObnyCsODszcA8PKY7vi6wdINVhqU\nGMGjwzrwddp+Xlycbnc5Lkl/o9xY99gQ2kc24qPVu+0uRZ2nN5f8wuqdefxjeEdiQz33Ov+ZTLw4\nnlFJMby8OJ2vU3VS4/nS8HdjIsKYnrFszMondW++3eWoc5S6N58XvtvOsM6RXNvjTKujezYR4amr\nO9E1NoQHZm9g2/6jdpfkUjT83dw13WPw9/Fi1ho9+3cFxaXl3P/xz4QG+fH01Z09ajx/bQT4evPm\nuCSC/H249f0U3QfgPGj4u7ngQF+u6BzFZ+v3UViiN36d3TNfbSUj5xj/Gd2VJm64YJsjRAYH8Ma4\nHmTnF3HPR+t1EbhzpOHvAcZe0IJjJ8r4cqNeF3Vmy385yLvLd3JTnzj6Juh+FucjqWUoT47oxNL0\ngzynawCdEw1/D5DcsgltmjXUG79OrLi0nCnzNtGyaSAP67DOWhlTtebR1CWZfLZ+r93lOD0Nfw9w\n8sbv+t1H2Lpfp8U7o5cXp7PzUCH/vKazW23MUt/+dmUiveJCeXjuRh3kcBYa/h7i2h4x+Hl7MWv1\nHrtLUdVsyS5g6pJMRifFcFEb91+m2ZH8fLx4bVwPmgb5cduMtRw6VuOOsQoNf48RGuTHkE6RzFuX\npVPinUh5hWHy3I2EBPry6BUd7C7HLYQ19OeN8UnkHjvBXR+uo1RvANdIw9+DjOkVS0Fxme7y5UTe\nW76TDVn5PHZVR0ICdXSPVbrEhPCvazqzMjOPfy7cYnc5TknD34Nc2KopcU0D9cavk8g6XMh/vt3G\ngHbhXNUlyu5y3M7IpBhuviiOd5btZJ7ubfE7Gv4eREQY26sFKbsO641fmxlj+OtnqQA8dY1O5nKU\nKcM60LtVKJPnbWJj1hG7y3EqloS/iAwRkW0ikiEik2v4ub+IfFz181UiEmdFv+r8XZcci7+PFzNW\n7LK7FI82f8M+ftyWy58HtyM6pIHd5bgtX28vXr2+B+EN/bltxloO6g3gX9U5/EXEG3gVGAokAmNF\nJLFas4nAYWNMG+AF4Nm69qtqp0mQH1d1bc6n6/dSUFxqdzke6fDxEp74YjNdY0OY0CfO7nLcXtOG\n/rw5Pom84yXcOVNvAJ9kxZl/LyDDGJNpjCkBZgEjqrUZAbxX9XgOMFD0c65tbrywJYUl5czVjV5s\n8fTCLeQXlfLMtZ3x9tJ/BvWhU3Qwz4zszOodeTy9QG8AgzXhHw2cOng8q+q1GtsYY8qAfKBp9QOJ\nyCQRSRGRlNzcXAtKUzXpEhNCt9gQZqzYpRth1LNlGQeZszaLSf1a0SGqsd3leJRruscw8eJ43l2+\nk09SdL6LFeFf06lL9UQ5lzYYY6YaY5KNMcnh4bq2iSPdeGFLMg8eZ9kvB+0uxWMUl5Yz5dNNxDUN\n5N6BCXaX45EeGdqePq2b8uhnqWzY49k3gK0I/ywg9pTnMUD1raN+bSMiPkAwkGdB36qWhnWOommQ\nH+/rjd968+KidHYdKuSf13YmwFeXcLCDj7cXr5xyAzj3qOfeALYi/NcACSISLyJ+wBhgfrU284EJ\nVY9HAd8bY/R6g40CfL35Q89YFm85QNbhQrvLcXtp+/J5a2km1yXH0Ke1LuFgp9AgP94cn8SRohLu\nmrmOkjLPvAFc5/CvuoZ/N/ANsAWYbYxJE5EnRGR4VbPpQFMRyQAeAH43HFTVvxt6twRg5iqd9OVI\n5RWGR+ZtokmgH1OG6RIOzqBTdDDPjuzC6p15PLVgs93l2MLHioMYYxYCC6u99tgpj4uB0Vb0pawT\nHdKAQR0i+HjNHu4bmKCXIhzknWU72JiVzyvXd9clHJzIiG7RpO7N562lO+gUHcx1ybFn/4/ciM7w\n9XAT+sSRd7yELzZUv02jrLAnr5Dnv93OwPbNuKKzLuHgbB4e0p6L2jTlr5+m8rOH3QDW8PdwfVo3\npV1EI6b/tAO9DWMtYwyPfpaKl8CTV3fSJRyckI+3F6+M7UGzxv7cPmMtOUeL7S6p3mj4ezgRYWLf\neLbuP8qyjEN2l+NWPv95H0u25/KXy9vRXJdwcFpNgvyYOj6Z/KJSbn0vxWOWPNfwV4zo1pywhv5M\n+ynT7lLcRt7xEp74cjPdYkMYf2Gc3eWos0hs3piXx3Zn49587pu1nnIPmPyo4a/w9/FmwoUt+XFb\nLukHjtpdjlt4asFmCopKeWakLuHgKi5LjOCxKxP5dvMB/uUBewBo+Cugctinv48X03/aYXcpLm9p\nei7z1u3l9kta0z5Sl3BwJTdfFM9NfeKY9tMOZqzYaXc5DqXhr4DKiS8jk2KYt36vR896rKuiknIe\n/TSVVmFB3H1pG7vLUbXwtysTGdi+GY/PT+OHrTl2l+MwGv7qVxMvjqekrIIPVuqSD7X14qLt7M7T\nJRxcmbeX8PLY7nSIasxdH65jU1a+3SU5hIa/+lXr8IYMbN+MGSt3ecyIByul7s1n2k87GNMzlt6t\nfrdorXIhQf4+vH1TT5oE+jHhndVk5ByzuyTLafir37i9f2vyjpcwa40u+XA+ysormDxvI00C/Xhk\nqC7h4A4iGgfwwS0X4CVw4/RV7D1SZHdJltLwV7/RMy6UXnGhTF2S6bELXtXGO8t2krq3gH8M70hw\noK/d5SiLxIcF8e7NvThaXMb46as45EbbQGr4q9+569I2ZOcX8+l63enrXOw+VMj/fbedQR0iGNY5\n0u5ylMU6RQcz/aae7D1cxIR3VrvN9qca/up3+iWE0Tk6mNd//IUy3e/0jIwxTPl0E95ewpNXd9Ql\nHNxUr/hQXh/Xg63ZRxk/fTX5Ra7/B0DDX/2OiHDXgNbsPFTIgk3Zdpfj1D5Zm8VPGQeZPLQ9UcG6\nhIM7u7R9BK+PS2LzvnzGT19FfqFr/wHQ8Fc1GpwYSZtmDXnth190n9/TyCko5qkvN9MrPpTre7Ww\nuxxVDy5LjOCNcUlszT7KOBf/A6Dhr2rk5SXc2b812w4c5bstB+wuxyk9Pj+N4rIKnrm2M166hIPH\nGNghgjfHJ7Ft/1HGvrXSZVcC1fBXpzW8a3Piw4J44bvtevZfzdep2XyVup/7ByXQKryh3eWoejag\nfTOmTUhm56HjjHx9OZm5rjcPQMNfnZaPtxf3D0pg6/6jfKnX/n+VX1jK3z5PIzGqMbf2bWV3Ocom\n/dqG89GtvTl+opxRb6xwuc1gNPzVGV3VpTntIhrx4nfbdeRPlX8u3ELe8RKeG9UFX2/9J+TJusaG\nMPeOPgT5ezN26kq+cqGTpDr95opIqIh8JyLpVd+b1NCmm4isEJE0EdkoIn+oS5+qfnl5CQ8Mbkvm\nweN8un6v3eXY7qf0g3ycsodb+7aiU3Sw3eUoJxAfFsTcO/rQLrIRd8xcx/PfbnOJy6R1PW2ZDCw2\nxiQAi6ueV1cI3GiM6QgMAV4UkZA69qvq0eDECDpHB/PS4nSPnvVbUFzKQ3M20Co8iPsHJdhdjnIi\nzRoF8PFtvbkuOYb/fp/Bre+ncKSwxO6yzqiu4T8CeK/q8XvA1dUbGGO2G2PSqx7vA3KA8Dr2q+qR\niPDg4LZkHS7iw1Weu+LnP+Zv5sDRE/zfdd10xU71O/4+3jw7sgtPjujIkvRchry4lOUZB+0u67Tq\nGv4RxphsgKrvzc7UWER6AX7AL6f5+SQRSRGRlNzc3DqWpqx0Sdtw+rRuykuL091iduP5+jZtP3PX\nZXFn/9Z0i9UPrqpmIsL4C+PUqRuiAAALOUlEQVT49M6LCPT35vppq3h6wWaKS51vldyzhr+ILBKR\n1Bq+RpxPRyISBcwAbjbG1HjtwBgz1RiTbIxJDg/XDwfORER49IoOHCkq5dUfMuwup14dOnaCKZ9u\nIjGqMfdcqpd71Nl1ig5mwT19ueGCFry1dAeXv7iEH7c518YwZw1/Y8wgY0ynGr4+Bw5UhfrJcK/x\n3YlIY2AB8FdjzEor34CqPx2bBzOqRwzvLtvJ7kOFdpdTL4wx/PWzVAqKyvi/P3TFz0dH96hz08DP\nm6ev6czMWy7A20u46Z013D5jrdPsDVDX3+T5wISqxxOAz6s3EBE/4FPgfWPMJ3XsT9nsz5e3w9tL\nePbrrXaXUi8+/3kfX6Xu50+XtdX9eFWtXNQmjK/u68ufB7dlSXoug1/4Hw/M/pkdB4/bWlddw/8Z\n4DIRSQcuq3qOiCSLyLSqNtcB/YCbROTnqq9udexX2SSicQC3XdKKBZuyWbMzz+5yHGr3oUL++lkq\nSS2bMKmfTuZStefv483dlyaw9KEB3NK3FQs2ZjPgPz9y0zur+X7rAUptmEMjxjjneNTk5GSTkpJi\ndxmqBoUlZQx6/n80buDLF/dc7JYTnUrLKxj1xgoyc4+x8N6+xIYG2l2SciM5R4v5cNVuPly1m5yj\nJwgJ9GVwYgSXtm9Gz7hQmjb0r/WxRWStMSb5rO00/FVtfJO2n9tmrGXKsPZM6tfa7nIs96+vtvDm\n/zJ57YYeDOscZXc5yk2Vllfww9Ycvkrdz6LNBzh6ogyAvglhzJh4Qa2Oea7h71OroyuPNzgxgkEd\nmvHCd+lc0aU50SHus5b9ku25vPm/TK6/oIUGv3IoX28vBneMZHDHSErKKti0N5/VO/Kojw/T7vd5\nXdULEeHxqzpiMPxjfprd5Vgm52gxD8zeQNuIhjx2ZaLd5SgP4ufjRVLLJtzRv3W9fJrW8Fe1Fhsa\nyH0D2/Lt5gN8uXGf3eXUWUlZBXfNXMexE6X8d2wPncWr3JqGv6qTW/vG0zUmmL99luqym1qc9PSC\nzazZeZjnRnWlXWQju8tRyqE0/FWd+Hh78fx1XTleUs6Ueak46wCCs5m7Nov3VuzilovjGd61ud3l\nKOVwGv6qzto0a8RDl7dj0ZYDzF3ness+p+7NZ8qnm7iwVVMmD21vdzlK1QsNf2WJP14UzwXxoTz+\neapLbWm370gRE99bQ9MgP165vjs+bjhnQama6G+6soSXl/DimG74+Xhx58x1FJU43yqG1RUUl/LH\nd9dw/EQ502/qWaeJNUq5Gg1/ZZmo4Aa8OKY72w4c5bHPU+0u54xKyytH9mTkHOP1cT3oEKXr9ijP\nouGvLHVJ23DuGdCGT9ZmMWOlc278UlFheHjORpamH+Sf13amb4IuH648j4a/stx9g9oysH0z/j4/\nzenWMDfG8Ohnm5i3fi8PXNaW65Jj7S5JKVto+CvLeXsJL4/tTruIRtz94Xq2ZBfYXRJQGfx/n5/G\nR6v3cNeA1txzaRu7S1LKNhr+yiGC/H14+6aeNPT3YcLbq20fAVRRYXjs87Rfx/L/eXA7RMTWmpSy\nk4a/cpjI4ABmTOxFeYVh7Fsr2WnT5hUlZRXcO2s9M1buYlK/Vjx6RQcNfuXxNPyVQyVENOLDW3tT\nWl75ByAj52i99n+ksIQ/vruGLzdm88jQ9kwZpsGvFGj4q3rQLrIRH0y8gNJyw7WvLWdl5qF66Xfr\n/gKGv7KM1Tvy+PeoLtx2ifvtO6BUbWn4q3qR2Lwxn97Zh2aNAxg/fRUzVux02DpAxhhmr9nDta8t\np7i0nFm39Wa0jupR6jc0/FW9iQ0NZO7tfejTOoy/fZ7GHR+s4/DxEkv7OFBQzK3vp/DQ3I10iQnm\ny3supkeLJpb2oZQ7qFP4i0ioiHwnIulV30/7r0xEGovIXhF5pS59KtcWHOjLOzf1ZMqw9izacoBL\nn/+RWat3U1FRt08BxaXlvPJ9Ov3//SNL0g/ytysT+fCW3jRrHGBR5Uq5lzrt4SsizwF5xphnRGQy\n0MQY8/Bp2r4EhFe1v/tsx9Y9fN3f1v0FPPZZGqt35pHQrCGT+rViRLdo/HzO/Zzk0LETfLhqN+8u\n38mh4yUM6RjJlGEdaNFUN1xXnqleNnAXkW1Af2NMtohEAT8aY9rV0C4J+AvwNZCs4a9OMsbw5cZs\nXv0hg637jxIS6MuQjpH0axtOjxZNiGjs/5vROaXlFaQfOMba3Yf5Nm0/y385RHmFYUC7cO7o34Ze\n8aE2vhul7Fdf4X/EGBNyyvPDxpgm1dp4Ad8D44GBaPirGhhjWJJ+kHnrsli0+QDHq1YF9ffxIryR\nP14iFJeWk3vsBCd/ZVuEBnJllyiu7h5N2wjdeUspOPfw9zmHAy0CImv40aPnWMudwEJjzJ6zja8W\nkUnAJIAWLVqc4+GVOxARLmkbziVtwzlRVs7mfQVs2HOEvUeKOHisBGMM/j7eRAYHEB8WRI8WTYgN\nbaBj9pWqJYdf9hGRmUBfoAJoCPgBrxljJp/p2Hrmr5RS58+yM/+zmA9MAJ6p+v559QbGmBtOKeom\nKi/7nDH4lVJKOVZdx/k/A1wmIunAZVXPEZFkEZlW1+KUUko5Rp0u+ziSXvZRSqnzd66XfXSGr1JK\neSANf6WU8kAa/kop5YE0/JVSygNp+CullAdy2tE+IpIL7KrDIcKAgxaV4yo87T172vsFfc+eoi7v\nuaUxJvxsjZw2/OtKRFLOZbiTO/G09+xp7xf0PXuK+njPetlHKaU8kIa/Ukp5IHcO/6l2F2ADT3vP\nnvZ+Qd+zp3D4e3bba/5KKaVOz53P/JVSSp2G24W/iAwRkW0iklG1r7BbE5FYEflBRLaISJqI3Gd3\nTfVFRLxFZL2IfGl3LfVBREJEZI6IbK36/32h3TU5moj8qer3OlVEPhKRALtrspqIvC0iOSKSespr\noSLynYikV31vcqZj1IZbhb+IeAOvAkOBRGCsiCTaW5XDlQEPGmM6AL2BuzzgPZ90H7DF7iLq0UvA\n18aY9kBX3Py9i0g0cC+Ve4B0AryBMfZW5RDvAkOqvTYZWGyMSQAWVz23lFuFP9ALyDDGZBpjSoBZ\nwAiba3IoY0y2MWZd1eOjVAZCtL1VOZ6IxABXAB6xb4SINAb6AdMBjDElxpgj9lZVL3yABiLiAwQC\n+2yux3LGmCVAXrWXRwDvVT1+D7ja6n7dLfyjgT2nPM/CA4LwJBGJA7oDq+ytpF68CDxE5fagnqAV\nkAu8U3Wpa5qIBNldlCMZY/YC/wF2A9lAvjHmW3urqjcRxphsqDzBA5pZ3YG7hX9Nu3l7xHAmEWkI\nzAXuN8YU2F2PI4nIlUCOMWat3bXUIx+gB/C6MaY7cBwHXApwJlXXuUcA8UBzIEhExtlblftwt/DP\nAmJPeR6DG35MrE5EfKkM/pnGmHl211MPLgKGi8hOKi/tXSoiH9hbksNlAVnGmJOf6uZQ+cfAnQ0C\ndhhjco0xpcA8oI/NNdWXAyISBVD1PcfqDtwt/NcACSISLyJ+VN4cmm9zTQ4lIkLldeAtxpj/s7ue\n+mCMecQYE2OMiaPy//H3xhi3PiM0xuwH9ohIu6qXBgKbbSypPuwGeotIYNXv+UDc/Cb3KeYDE6oe\nTwA+t7oDH6sPaCdjTJmI3A18Q+XIgLeNMWk2l+VoFwHjgU0i8nPVa1OMMQttrEk5xj3AzKoTm0zg\nZpvrcShjzCoRmQOso3JU23rccLaviHwE9AfCRCQLeBx4BpgtIhOp/CM42vJ+dYavUkp5Hne77KOU\nUuocaPgrpZQH0vBXSikPpOGvlFIeSMNfKaU8kIa/Ukp5IA1/pZTyQBr+Sinlgf4fIh1EbsJJttIA\nAAAASUVORK5CYII=\n",
          "text/plain": "<matplotlib.figure.Figure at 0x115e15898>"
         },
         "metadata": {},
         "output_type": "display_data"
        }
       ]
      }
     },
     "7f57389910424673ba42e8bae4c4d159": {
      "model_module": "@jupyter-widgets/controls",
      "model_module_version": "1.0.0",
      "model_name": "SliderStyleModel",
      "state": {
       "description_width": ""
      }
     },
     "7f7eb3ee05a74d199eea2feae4f6be38": {
      "model_module": "@jupyter-widgets/controls",
      "model_module_version": "1.0.0",
      "model_name": "IntSliderModel",
      "state": {
       "description": "p",
       "layout": "IPY_MODEL_f5645aa7898843b083d4715fe29dbd59",
       "max": 5,
       "min": -5,
       "style": "IPY_MODEL_473e6683dc6d4fda8d418d2c5293e20e",
       "value": 4
      }
     },
     "82ccb0108dce4b8889f44d2e2d170f84": {
      "model_module": "@jupyter-widgets/controls",
      "model_module_version": "1.0.0",
      "model_name": "IntSliderModel",
      "state": {
       "description": "N",
       "layout": "IPY_MODEL_6bb9bb17181041d4a557c4b376a0ddbf",
       "max": 30,
       "style": "IPY_MODEL_8bedb182da384bbfa42407842c97f892",
       "value": 15
      }
     },
     "8bedb182da384bbfa42407842c97f892": {
      "model_module": "@jupyter-widgets/controls",
      "model_module_version": "1.0.0",
      "model_name": "SliderStyleModel",
      "state": {
       "description_width": ""
      }
     },
     "8c8214ea5ed244c19a703ed89537a726": {
      "model_module": "@jupyter-widgets/controls",
      "model_module_version": "1.0.0",
      "model_name": "VBoxModel",
      "state": {
       "_dom_classes": [
        "widget-interact"
       ],
       "children": [
        "IPY_MODEL_7f7eb3ee05a74d199eea2feae4f6be38",
        "IPY_MODEL_34474d7066be402781f0257c6835232a",
        "IPY_MODEL_f9b7733b20564218b3a7bc4fe38d867e",
        "IPY_MODEL_f9f8db613f134f4f89e3ad4931d2f1b8"
       ],
       "layout": "IPY_MODEL_772b0a34aa134eed94a615a5b8553674"
      }
     },
     "a773bf20a983472dafdf9ff1d76eaa81": {
      "model_module": "@jupyter-widgets/base",
      "model_module_version": "1.0.0",
      "model_name": "LayoutModel",
      "state": {}
     },
     "e8140b2ba611468da0ac578e7b466c9e": {
      "model_module": "@jupyter-widgets/base",
      "model_module_version": "1.0.0",
      "model_name": "LayoutModel",
      "state": {}
     },
     "eb8a92de7c764fe0b96d7ab3d30e69ac": {
      "model_module": "@jupyter-widgets/base",
      "model_module_version": "1.0.0",
      "model_name": "LayoutModel",
      "state": {}
     },
     "f5645aa7898843b083d4715fe29dbd59": {
      "model_module": "@jupyter-widgets/base",
      "model_module_version": "1.0.0",
      "model_name": "LayoutModel",
      "state": {}
     },
     "f9b7733b20564218b3a7bc4fe38d867e": {
      "model_module": "@jupyter-widgets/controls",
      "model_module_version": "1.0.0",
      "model_name": "IntSliderModel",
      "state": {
       "description": "xmax",
       "layout": "IPY_MODEL_610e5444c27a4ea0b969351a85dec091",
       "min": 10,
       "step": 10,
       "style": "IPY_MODEL_474043489e4a4915a35cfe1ddd946ac2",
       "value": 30
      }
     },
     "f9f8db613f134f4f89e3ad4931d2f1b8": {
      "model_module": "@jupyter-widgets/output",
      "model_module_version": "1.0.0",
      "model_name": "OutputModel",
      "state": {
       "layout": "IPY_MODEL_e8140b2ba611468da0ac578e7b466c9e",
       "outputs": [
        {
         "data": {
          "image/png": "iVBORw0KGgoAAAANSUhEUgAAAX8AAAD8CAYAAACfF6SlAAAABHNCSVQICAgIfAhkiAAAAAlwSFlz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\nWOaQrugAAAAASUVORK5CYII=\n",
          "text/plain": "<matplotlib.figure.Figure at 0x115cf4390>"
         },
         "metadata": {},
         "output_type": "display_data"
        }
       ]
      }
     }
    },
    "version_major": 2,
    "version_minor": 0
   }
  }
 },
 "nbformat": 4,
 "nbformat_minor": 2
}
