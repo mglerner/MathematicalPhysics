{
 "cells": [
  {
   "cell_type": "code",
   "execution_count": 1,
   "metadata": {},
   "outputs": [
    {
     "data": {
      "text/plain": [
       "0.5"
      ]
     },
     "execution_count": 1,
     "metadata": {},
     "output_type": "execute_result"
    }
   ],
   "source": [
    "1/2"
   ]
  },
  {
   "cell_type": "code",
   "execution_count": 2,
   "metadata": {},
   "outputs": [
    {
     "data": {
      "text/plain": [
       "0.5"
      ]
     },
     "execution_count": 2,
     "metadata": {},
     "output_type": "execute_result"
    }
   ],
   "source": [
    "1.0/2.0"
   ]
  },
  {
   "cell_type": "code",
   "execution_count": 3,
   "metadata": {},
   "outputs": [
    {
     "name": "stdout",
     "output_type": "stream",
     "text": [
      "-0.5\n",
      "0.25\n",
      "-0.125\n",
      "0.0625\n"
     ]
    }
   ],
   "source": [
    "x = 1\n",
    "for n in (1,2,3,4):\n",
    "    print( ((-x)**n)/(2**n))"
   ]
  },
  {
   "cell_type": "code",
   "execution_count": 8,
   "metadata": {},
   "outputs": [
    {
     "name": "stdout",
     "output_type": "stream",
     "text": [
      "1.25 0.25\n",
      "1.3125 0.0625\n",
      "1.328125 0.015625\n",
      "1.33203125 0.00390625\n",
      "1.3330078125 0.0009765625\n",
      "1.333251953125 0.000244140625\n",
      "1.33331298828125 6.103515625e-05\n",
      "1.3333282470703125 1.52587890625e-05\n",
      "1.3333320617675781 3.814697265625e-06\n"
     ]
    }
   ],
   "source": [
    "total = 1\n",
    "x = -.5\n",
    "for n in range(1,10):\n",
    "    thisterm = ((-x)**n)/(2**n)\n",
    "    total = total + thisterm\n",
    "    print(total, thisterm)"
   ]
  },
  {
   "cell_type": "code",
   "execution_count": null,
   "metadata": {},
   "outputs": [],
   "source": [
    "total = 0\n",
    "x = 2\n",
    "for n in range(100):\n",
    "    thisterm = ((-x)**n)/(2**n)\n",
    "    total = total + thisterm\n",
    "    print(total, thisterm)"
   ]
  },
  {
   "cell_type": "code",
   "execution_count": null,
   "metadata": {},
   "outputs": [],
   "source": [
    "total = 1\n",
    "x = -3/2\n",
    "for n in range(1,10):\n",
    "    thisterm = ((2*x)**n)/((3)**n)\n",
    "    total = total + thisterm\n",
    "    print(total, thisterm)"
   ]
  },
  {
   "cell_type": "code",
   "execution_count": null,
   "metadata": {},
   "outputs": [],
   "source": []
  }
 ],
 "metadata": {
  "anaconda-cloud": {},
  "kernelspec": {
   "display_name": "Python 3",
   "language": "python",
   "name": "python3"
  },
  "language_info": {
   "codemirror_mode": {
    "name": "ipython",
    "version": 3
   },
   "file_extension": ".py",
   "mimetype": "text/x-python",
   "name": "python",
   "nbconvert_exporter": "python",
   "pygments_lexer": "ipython3",
   "version": "3.6.1"
  }
 },
 "nbformat": 4,
 "nbformat_minor": 1
}
