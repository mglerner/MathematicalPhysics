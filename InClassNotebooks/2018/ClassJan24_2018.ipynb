{
 "cells": [
  {
   "cell_type": "markdown",
   "metadata": {},
   "source": [
    "$ (-1)^n x^n $\n",
    "\n",
    "$ (-1)^{(n+3)}/(x+4)^n $"
   ]
  },
  {
   "cell_type": "code",
   "execution_count": 2,
   "metadata": {},
   "outputs": [
    {
     "name": "stdout",
     "output_type": "stream",
     "text": [
      "-1.0\n"
     ]
    }
   ],
   "source": [
    "x = 0.5\n",
    "n = 0\n",
    "term_1 = ((-1)**(n+3)) / (x + 4)**n\n",
    "print(term_1)"
   ]
  },
  {
   "cell_type": "code",
   "execution_count": 3,
   "metadata": {},
   "outputs": [
    {
     "name": "stdout",
     "output_type": "stream",
     "text": [
      "-0.04938271604938271\n"
     ]
    }
   ],
   "source": [
    "n = 2\n",
    "term_2 = ((-1)**(n+3)) / (x + 4)**n\n",
    "print(term_2)"
   ]
  },
  {
   "cell_type": "code",
   "execution_count": 4,
   "metadata": {},
   "outputs": [
    {
     "name": "stdout",
     "output_type": "stream",
     "text": [
      "1\n",
      "2\n",
      "3\n",
      "4\n",
      "5\n",
      "6\n",
      "7\n",
      "8\n",
      "9\n"
     ]
    }
   ],
   "source": [
    "for n in range(1,10):\n",
    "    print(n)"
   ]
  },
  {
   "cell_type": "code",
   "execution_count": 5,
   "metadata": {},
   "outputs": [
    {
     "name": "stdout",
     "output_type": "stream",
     "text": [
      "0.2222222222222222\n",
      "-0.04938271604938271\n",
      "0.010973936899862825\n",
      "-0.0024386526444139613\n",
      "0.0005419228098697691\n",
      "-0.00012042729108217093\n",
      "2.6761620240482428e-05\n",
      "-5.947026720107206e-06\n",
      "1.321561493357157e-06\n"
     ]
    }
   ],
   "source": [
    "for n in range(1,10):\n",
    "    term = ((-1)**(n+3)) / (x + 4)**n\n",
    "    print(term)"
   ]
  },
  {
   "cell_type": "code",
   "execution_count": 7,
   "metadata": {},
   "outputs": [
    {
     "name": "stdout",
     "output_type": "stream",
     "text": [
      "0.2222222222222222 0.2222222222222222\n",
      "-0.04938271604938271 0.1728395061728395\n",
      "0.010973936899862825 0.1838134430727023\n",
      "-0.0024386526444139613 0.18137479042828836\n",
      "0.0005419228098697691 0.18191671323815814\n",
      "-0.00012042729108217093 0.18179628594707598\n",
      "2.6761620240482428e-05 0.18182304756731646\n",
      "-5.947026720107206e-06 0.18181710054059635\n",
      "1.321561493357157e-06 0.1818184221020897\n"
     ]
    }
   ],
   "source": [
    "partial_sum = 0\n",
    "for n in range(1,10):\n",
    "    term = ((-1)**(n+3)) / (x + 4)**n\n",
    "    partial_sum = partial_sum + term\n",
    "    print(term,partial_sum)"
   ]
  },
  {
   "cell_type": "code",
   "execution_count": 6,
   "metadata": {},
   "outputs": [
    {
     "data": {
      "text/plain": [
       "6"
      ]
     },
     "execution_count": 6,
     "metadata": {},
     "output_type": "execute_result"
    }
   ],
   "source": [
    "sum((1,2,3))"
   ]
  },
  {
   "cell_type": "code",
   "execution_count": 14,
   "metadata": {},
   "outputs": [
    {
     "name": "stdout",
     "output_type": "stream",
     "text": [
      "1 0.2222 0.2222\n",
      "2 -0.04938 0.1728\n",
      "3 0.01097 0.1838\n",
      "4 -0.002439 0.1814\n",
      "5 0.0005419 0.1819\n",
      "6 -0.0001204 0.1818\n",
      "7 2.676e-05 0.1818\n",
      "8 -5.947e-06 0.1818\n",
      "9 1.322e-06 0.1818\n"
     ]
    }
   ],
   "source": [
    "partial_sum = 0\n",
    "for n in range(1,10):\n",
    "    term = ((-1)**(n+3)) / (x + 4)**n\n",
    "    partial_sum = partial_sum + term\n",
    "    #print(n,term,partial_sum)\n",
    "    print(f'{n} {term:.4} {partial_sum:.4}')\n"
   ]
  },
  {
   "cell_type": "code",
   "execution_count": 15,
   "metadata": {},
   "outputs": [
    {
     "name": "stdout",
     "output_type": "stream",
     "text": [
      "sum after 1 terms was 0.2222\n",
      "sum after 2 terms was 0.1728\n",
      "sum after 3 terms was 0.1838\n",
      "sum after 4 terms was 0.1814\n",
      "sum after 5 terms was 0.1819\n",
      "sum after 6 terms was 0.1818\n",
      "sum after 7 terms was 0.1818\n",
      "sum after 8 terms was 0.1818\n",
      "sum after 9 terms was 0.1818\n"
     ]
    }
   ],
   "source": [
    "partial_sum = 0\n",
    "for n in range(1,10):\n",
    "    term = ((-1)**(n+3)) / (x + 4)**n\n",
    "    partial_sum = partial_sum + term\n",
    "    #print(n,term,partial_sum)\n",
    "    #print(f'{n} {term:.4} {partial_sum:.4}')\n",
    "    print(f'sum after {n} terms was {partial_sum:.4}')"
   ]
  },
  {
   "cell_type": "code",
   "execution_count": null,
   "metadata": {},
   "outputs": [],
   "source": []
  }
 ],
 "metadata": {
  "kernelspec": {
   "display_name": "Python 3",
   "language": "python",
   "name": "python3"
  },
  "language_info": {
   "codemirror_mode": {
    "name": "ipython",
    "version": 3
   },
   "file_extension": ".py",
   "mimetype": "text/x-python",
   "name": "python",
   "nbconvert_exporter": "python",
   "pygments_lexer": "ipython3",
   "version": "3.6.1"
  }
 },
 "nbformat": 4,
 "nbformat_minor": 2
}
