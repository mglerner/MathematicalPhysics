{
 "cells": [
  {
   "cell_type": "markdown",
   "metadata": {},
   "source": [
    "# Below, we look at Airy functions."
   ]
  },
  {
   "cell_type": "code",
   "execution_count": null,
   "metadata": {},
   "outputs": [],
   "source": [
    "import numpy as np, scipy as sp, pandas as pd, seaborn as sns\n",
    "import matplotlib.pyplot as plt\n",
    "%matplotlib inline\n",
    "sns.set_style('darkgrid')"
   ]
  },
  {
   "cell_type": "code",
   "execution_count": 7,
   "metadata": {},
   "outputs": [],
   "source": [
    "y1_coeffs = [1, 0, 0,\n",
    "             1/(2*3), 0, 0,\n",
    "             1/(2*3*5*6), 0, 0,\n",
    "             1/(2*3*5*6*8*9), 0, 0,\n",
    "             ]\n",
    "y2_coeffs = [0, 1/(3*4), 0,\n",
    "             0, 1/(3*4*6*7), 0,\n",
    "             0, 1/(3*4*6*7*9*10), 0]\n",
    "\n",
    "def get_y1_coeffs(n):\n",
    "    result = [1,]\n",
    "    for i in range(1,n):\n",
    "        if divmod(i,3)[1] == 0:\n",
    "            denom = 1\n",
    "            for j in range(1,i+1):\n",
    "                if divmod(j-1,3)[1] == 0:\n",
    "                    pass\n",
    "                else:\n",
    "                    denom = denom * j\n",
    "            result.append(1/denom)\n",
    "        else:\n",
    "            result.append(0)\n",
    "    return result"
   ]
  },
  {
   "cell_type": "code",
   "execution_count": 3,
   "metadata": {},
   "outputs": [],
   "source": [
    "from ipywidgets import interact"
   ]
  },
  {
   "cell_type": "code",
   "execution_count": 8,
   "metadata": {},
   "outputs": [
    {
     "data": {
      "application/vnd.jupyter.widget-view+json": {
       "model_id": "25cbf8e246a5446495018ffbf496b57d",
       "version_major": 2,
       "version_minor": 0
      },
      "text/html": [
       "<p>Failed to display Jupyter Widget of type <code>interactive</code>.</p>\n",
       "<p>\n",
       "  If you're reading this message in the Jupyter Notebook or JupyterLab Notebook, it may mean\n",
       "  that the widgets JavaScript is still loading. If this message persists, it\n",
       "  likely means that the widgets JavaScript library is either not installed or\n",
       "  not enabled. See the <a href=\"https://ipywidgets.readthedocs.io/en/stable/user_install.html\">Jupyter\n",
       "  Widgets Documentation</a> for setup instructions.\n",
       "</p>\n",
       "<p>\n",
       "  If you're reading this message in another frontend (for example, a static\n",
       "  rendering on GitHub or <a href=\"https://nbviewer.jupyter.org/\">NBViewer</a>),\n",
       "  it may mean that your frontend doesn't currently support widgets.\n",
       "</p>\n"
      ],
      "text/plain": [
       "interactive(children=(IntSlider(value=1, description='n'), Output()), _dom_classes=('widget-interact',))"
      ]
     },
     "metadata": {},
     "output_type": "display_data"
    }
   ],
   "source": [
    "def plot_airy1(n=1):\n",
    "    a0 = 1\n",
    "    x = np.linspace(-12,5,10000)\n",
    "    y = np.zeros_like(x)\n",
    "    for i,coeff in enumerate(get_y1_coeffs(n)):\n",
    "        y = y + (x**i)*coeff\n",
    "    plt.plot(x,y,'k--',label=\"First {n} terms\".format(n=n))\n",
    "    #plt.plot(x,sp.special.airy(x)[2]+sp.special.airy(x)[3],label=\"full solution (ish)\")\n",
    "    #plt.plot(x,sp.special.airy(x)[0],label='0')\n",
    "    #plt.plot(x,sp.special.airy(x)[1],label='1')\n",
    "    #plt.plot(x,sp.special.airy(x)[2],label='2')\n",
    "    #plt.plot(x,sp.special.airy(x)[3],label='3')\n",
    "    plt.axis([-12,5,-3,3])\n",
    "    \n",
    "    plt.legend()\n",
    "\n",
    "interact(plot_airy1,n=(0,100));"
   ]
  },
  {
   "cell_type": "code",
   "execution_count": null,
   "metadata": {},
   "outputs": [],
   "source": []
  }
 ],
 "metadata": {
  "kernelspec": {
   "display_name": "Python 3",
   "language": "python",
   "name": "python3"
  },
  "language_info": {
   "codemirror_mode": {
    "name": "ipython",
    "version": 3
   },
   "file_extension": ".py",
   "mimetype": "text/x-python",
   "name": "python",
   "nbconvert_exporter": "python",
   "pygments_lexer": "ipython3",
   "version": "3.6.1"
  }
 },
 "nbformat": 4,
 "nbformat_minor": 1
}
