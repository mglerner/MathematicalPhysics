{
 "cells": [
  {
   "cell_type": "markdown",
   "id": "fdaf4201-67d6-4739-96df-c8d3d02f765a",
   "metadata": {},
   "source": [
    "Reminder about automatic type conversion"
   ]
  },
  {
   "cell_type": "code",
   "execution_count": 1,
   "id": "7141e146-bcd2-4dda-b62a-21ca74c60402",
   "metadata": {},
   "outputs": [
    {
     "data": {
      "text/plain": [
       "0.5"
      ]
     },
     "execution_count": 1,
     "metadata": {},
     "output_type": "execute_result"
    }
   ],
   "source": [
    "1/2"
   ]
  },
  {
   "cell_type": "code",
   "execution_count": 2,
   "id": "bc8eb358-c444-4b21-8f72-05ad98df6b2a",
   "metadata": {},
   "outputs": [
    {
     "data": {
      "text/plain": [
       "0.5"
      ]
     },
     "execution_count": 2,
     "metadata": {},
     "output_type": "execute_result"
    }
   ],
   "source": [
    "1.0/2.0"
   ]
  },
  {
   "cell_type": "markdown",
   "id": "af5ad1fc-aaf0-4e06-aa8e-97dc67eb0777",
   "metadata": {},
   "source": [
    "Python is natural for series"
   ]
  },
  {
   "cell_type": "code",
   "execution_count": 28,
   "id": "db4ce6ca-b92e-4fc6-ae8d-dce6e5499af0",
   "metadata": {},
   "outputs": [
    {
     "name": "stdout",
     "output_type": "stream",
     "text": [
      "1\n",
      "2\n",
      "3\n",
      "4\n",
      "5\n",
      "6\n",
      "7\n",
      "8\n",
      "9\n"
     ]
    }
   ],
   "source": [
    "for n in range(1,10):\n",
    "    print(n)"
   ]
  },
  {
   "cell_type": "code",
   "execution_count": 6,
   "id": "6236bb02-cb4a-4bf9-85dc-71030e8a1a66",
   "metadata": {},
   "outputs": [
    {
     "name": "stdout",
     "output_type": "stream",
     "text": [
      "-0.5\n",
      "0.25\n",
      "-0.125\n",
      "0.0625\n"
     ]
    }
   ],
   "source": [
    "x = 1\n",
    "for n in (1,2,3,4):\n",
    "    print( ((-x)**n)/(2**n))"
   ]
  },
  {
   "cell_type": "code",
   "execution_count": 7,
   "id": "0d79edf1-6b3f-4f6c-9aeb-83479c9f698b",
   "metadata": {},
   "outputs": [
    {
     "name": "stdout",
     "output_type": "stream",
     "text": [
      "1.25 0.25\n",
      "1.3125 0.0625\n",
      "1.328125 0.015625\n",
      "1.33203125 0.00390625\n",
      "1.3330078125 0.0009765625\n",
      "1.333251953125 0.000244140625\n",
      "1.33331298828125 6.103515625e-05\n",
      "1.3333282470703125 1.52587890625e-05\n",
      "1.3333320617675781 3.814697265625e-06\n"
     ]
    }
   ],
   "source": [
    "total = 1\n",
    "x = -.5\n",
    "for n in range(1,10):\n",
    "    thisterm = ((-x)**n)/(2**n)\n",
    "    total = total + thisterm\n",
    "    print(total, thisterm)"
   ]
  },
  {
   "cell_type": "markdown",
   "id": "394c0473-933a-4a20-9cba-33ac6baaecdf",
   "metadata": {},
   "source": [
    "Huh. *looks* like it converges. What if we try it with x = 2?"
   ]
  },
  {
   "cell_type": "code",
   "execution_count": 10,
   "id": "21cde807-072b-4414-89a2-62273fc66a57",
   "metadata": {},
   "outputs": [
    {
     "name": "stdout",
     "output_type": "stream",
     "text": [
      "1.0 1.0\n",
      "0.0 -1.0\n",
      "1.0 1.0\n",
      "0.0 -1.0\n",
      "1.0 1.0\n",
      "0.0 -1.0\n",
      "1.0 1.0\n",
      "0.0 -1.0\n",
      "1.0 1.0\n",
      "0.0 -1.0\n"
     ]
    }
   ],
   "source": [
    "total = 0\n",
    "x = 2\n",
    "for n in range(10):\n",
    "    thisterm = ((-x)**n)/(2**n)\n",
    "    total = total + thisterm\n",
    "    print(total, thisterm)"
   ]
  },
  {
   "cell_type": "code",
   "execution_count": 11,
   "id": "fd30b5b1-41b0-4f8b-86b7-3630fe9f6e72",
   "metadata": {},
   "outputs": [
    {
     "name": "stdout",
     "output_type": "stream",
     "text": [
      "0.0 -1.0\n",
      "1.0 1.0\n",
      "0.0 -1.0\n",
      "1.0 1.0\n",
      "0.0 -1.0\n",
      "1.0 1.0\n",
      "0.0 -1.0\n",
      "1.0 1.0\n",
      "0.0 -1.0\n"
     ]
    }
   ],
   "source": [
    "total = 1\n",
    "x = -3/2\n",
    "for n in range(1,10):\n",
    "    thisterm = ((2*x)**n)/((3)**n)\n",
    "    total = total + thisterm\n",
    "    print(total, thisterm)"
   ]
  },
  {
   "cell_type": "code",
   "execution_count": 12,
   "id": "c44261b1-f030-4136-b464-2f8f89838f96",
   "metadata": {},
   "outputs": [
    {
     "name": "stdout",
     "output_type": "stream",
     "text": [
      "-1.0 -2.0\n",
      "3.0 4.0\n",
      "-5.0 -8.0\n",
      "11.0 16.0\n",
      "-21.0 -32.0\n",
      "43.0 64.0\n",
      "-85.0 -128.0\n",
      "171.0 256.0\n",
      "-341.0 -512.0\n"
     ]
    }
   ],
   "source": [
    "total = 1\n",
    "x = -3\n",
    "for n in range(1,10):\n",
    "    thisterm = ((2*x)**n)/((3)**n)\n",
    "    total = total + thisterm\n",
    "    print(total, thisterm)"
   ]
  },
  {
   "cell_type": "markdown",
   "id": "c58aa13b-c150-4fb9-98cc-940619e9dd02",
   "metadata": {},
   "source": [
    "Can also make it look nice"
   ]
  },
  {
   "cell_type": "code",
   "execution_count": 34,
   "id": "4b154298-242f-4425-827a-b3ae2ed79b3c",
   "metadata": {},
   "outputs": [
    {
     "name": "stdout",
     "output_type": "stream",
     "text": [
      "1: 0.25 1.25\n",
      "2: 0.0625 1.312\n",
      "3: 0.01562 1.328\n",
      "4: 0.003906 1.332\n",
      "5: 0.0009766 1.333\n",
      "6: 0.0002441 1.333\n",
      "7: 6.104e-05 1.333\n",
      "8: 1.526e-05 1.333\n",
      "9: 3.815e-06 1.333\n"
     ]
    }
   ],
   "source": [
    "total = 1\n",
    "x = -.5\n",
    "for n in range(1,10):\n",
    "    thisterm = ((-x)**n)/(2**n)\n",
    "    total = total + thisterm\n",
    "    print(f'{n}: {thisterm:.4} {total:.4}')"
   ]
  },
  {
   "cell_type": "markdown",
   "id": "f0f515f5-5c08-4e6e-9aa3-1687855ab3ff",
   "metadata": {},
   "source": [
    "# We can also write equations with TeX markup:\n",
    "\n",
    "$(-1)^nx^n$\n",
    "\n",
    "$(-1)^{(n+3)}/(x+4)^n$"
   ]
  },
  {
   "cell_type": "code",
   "execution_count": null,
   "id": "ff949844-27f1-4099-adf8-96fdb1d413bd",
   "metadata": {},
   "outputs": [],
   "source": []
  },
  {
   "cell_type": "code",
   "execution_count": null,
   "id": "0992b253-2b71-4ebc-ac5c-1fa90f5958a2",
   "metadata": {},
   "outputs": [],
   "source": []
  },
  {
   "cell_type": "code",
   "execution_count": null,
   "id": "4b2d41db-9bd7-4310-848c-c205c8998da7",
   "metadata": {},
   "outputs": [],
   "source": []
  },
  {
   "cell_type": "markdown",
   "id": "4b4ad731-5155-4a36-8e73-0cb24f706160",
   "metadata": {},
   "source": [
    "# We can also plot things, like that series we talked about."
   ]
  },
  {
   "cell_type": "code",
   "execution_count": 20,
   "id": "c5fc9e12-4caa-49d6-9544-ded5d563cb02",
   "metadata": {},
   "outputs": [],
   "source": [
    "import numpy as np\n",
    "from matplotlib import pyplot as plt"
   ]
  },
  {
   "cell_type": "code",
   "execution_count": 21,
   "id": "4769541e-635a-4563-a10b-756c84d57bf2",
   "metadata": {},
   "outputs": [],
   "source": [
    "x = np.linspace(-1,1,1000)"
   ]
  },
  {
   "cell_type": "code",
   "execution_count": 23,
   "id": "68f70034-f08f-43a5-8704-ec37a34d74f3",
   "metadata": {},
   "outputs": [
    {
     "data": {
      "text/plain": [
       "[<matplotlib.lines.Line2D at 0x7fb7939c2ed0>]"
      ]
     },
     "execution_count": 23,
     "metadata": {},
     "output_type": "execute_result"
    },
    {
     "data": {
      "image/png": "[encoded data removed]",
      "text/plain": [
       "<Figure size 432x288 with 1 Axes>"
      ]
     },
     "metadata": {
      "needs_background": "light"
     },
     "output_type": "display_data"
    }
   ],
   "source": [
    "plt.plot(x,np.exp(-1/x**2))"
   ]
  },
  {
   "cell_type": "code",
   "execution_count": 27,
   "id": "7940b4d3-5b21-4f0c-841f-0282c4a7ea34",
   "metadata": {},
   "outputs": [
    {
     "data": {
      "text/plain": [
       "(0.7853981633974483, 0.7853981633974483)"
      ]
     },
     "execution_count": 27,
     "metadata": {},
     "output_type": "execute_result"
    }
   ],
   "source": [
    "np.arctan(1), np.pi/4"
   ]
  },
  {
   "cell_type": "code",
   "execution_count": null,
   "id": "036d7b90-20e9-4fbe-a4cc-1274b11e2759",
   "metadata": {},
   "outputs": [],
   "source": []
  }
 ],
 "metadata": {
  "kernelspec": {
   "display_name": "Python 3 (ipykernel)",
   "language": "python",
   "name": "python3"
  },
  "language_info": {
   "codemirror_mode": {
    "name": "ipython",
    "version": 3
   },
   "file_extension": ".py",
   "mimetype": "text/x-python",
   "name": "python",
   "nbconvert_exporter": "python",
   "pygments_lexer": "ipython3",
   "version": "3.7.7"
  }
 },
 "nbformat": 4,
 "nbformat_minor": 5
}
