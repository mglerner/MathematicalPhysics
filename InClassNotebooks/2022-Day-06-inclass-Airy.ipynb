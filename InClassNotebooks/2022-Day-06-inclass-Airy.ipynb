{
 "cells": [
  {
   "cell_type": "code",
   "execution_count": 1,
   "id": "93534001-1f82-4ca1-ab56-3586c4e1c31c",
   "metadata": {},
   "outputs": [],
   "source": [
    "import numpy as np\n",
    "from matplotlib import pyplot as plt"
   ]
  },
  {
   "cell_type": "code",
   "execution_count": 2,
   "id": "7fe59803-6fad-4d24-a9ce-453ebc5c3388",
   "metadata": {},
   "outputs": [],
   "source": [
    "def fact(n):\n",
    "    if n <= 1:\n",
    "        return 1\n",
    "    return n * fact(n-1)"
   ]
  },
  {
   "cell_type": "code",
   "execution_count": 3,
   "id": "82fb808d-1a13-46e9-9caf-100f93bf813d",
   "metadata": {},
   "outputs": [
    {
     "data": {
      "text/plain": [
       "1"
      ]
     },
     "execution_count": 3,
     "metadata": {},
     "output_type": "execute_result"
    }
   ],
   "source": [
    "fact(1)"
   ]
  },
  {
   "cell_type": "code",
   "execution_count": 4,
   "id": "9ade7837-6689-4162-a1cf-c96491f302da",
   "metadata": {},
   "outputs": [
    {
     "data": {
      "text/plain": [
       "2"
      ]
     },
     "execution_count": 4,
     "metadata": {},
     "output_type": "execute_result"
    }
   ],
   "source": [
    "fact(2)"
   ]
  },
  {
   "cell_type": "code",
   "execution_count": 5,
   "id": "3d8ff082-2052-4c61-884d-2635f12e2d73",
   "metadata": {},
   "outputs": [
    {
     "data": {
      "text/plain": [
       "6"
      ]
     },
     "execution_count": 5,
     "metadata": {},
     "output_type": "execute_result"
    }
   ],
   "source": [
    "fact(3)"
   ]
  },
  {
   "cell_type": "markdown",
   "id": "0aa99da6-3f18-4d98-88e0-c0e6b642c153",
   "metadata": {},
   "source": [
    "# Here we will look at the solutions to Airy's equation.\n",
    "\n",
    "## Airy's equation looks like \n",
    "$y'' -xy=0$ (renders in $\\LaTeX$)\n",
    "(look at [codecogs](https://editor.codecogs.com))\n",
    "\n",
    "To remind ourselves, the solutions to Airy's equation have the recurrence relation\n",
    "\n",
    "$ (n+2)(n+1)a_{n+2} = a_{n-1} $\n",
    "\n",
    "or\n",
    "\n",
    "$ (n+3)(n+2)a_{n+3} = a_n $\n",
    "\n",
    "or $a_{n+3} = \\frac{a_n}{(n+3)(n+2)}$\n",
    "\n",
    "or finally\n",
    "\n",
    "$a_{n} = \\frac{a_{n-3}}{(n)(n-1)}$"
   ]
  },
  {
   "cell_type": "code",
   "execution_count": 7,
   "id": "315be17b-9030-4692-a638-bb44a9216aff",
   "metadata": {},
   "outputs": [],
   "source": [
    "def a(n):\n",
    "    if n < 0:\n",
    "        return -1\n",
    "    elif n == 2:\n",
    "        return 0\n",
    "    elif n in (0,1):\n",
    "        return 1\n",
    "    else:\n",
    "        return a(n-3)/(n*(n-1))"
   ]
  },
  {
   "cell_type": "code",
   "execution_count": 8,
   "id": "100e0b2a-4369-43ae-b9a2-116051d017fe",
   "metadata": {},
   "outputs": [
    {
     "data": {
      "text/plain": [
       "(0.08333333333333333, 0.08333333333333333)"
      ]
     },
     "execution_count": 8,
     "metadata": {},
     "output_type": "execute_result"
    }
   ],
   "source": [
    "a(4), 1/(4*3)"
   ]
  },
  {
   "cell_type": "code",
   "execution_count": 18,
   "id": "f05191d6-53c3-461c-8ef2-475d58eab468",
   "metadata": {},
   "outputs": [
    {
     "data": {
      "text/plain": [
       "(0.0, 0)"
      ]
     },
     "execution_count": 18,
     "metadata": {},
     "output_type": "execute_result"
    }
   ],
   "source": [
    "a(5),0"
   ]
  },
  {
   "cell_type": "code",
   "execution_count": 19,
   "id": "a075bad9-1592-48f2-8c0f-b69fd778e1da",
   "metadata": {},
   "outputs": [
    {
     "data": {
      "text/plain": [
       "(0.005555555555555555, 0.005555555555555556)"
      ]
     },
     "execution_count": 19,
     "metadata": {},
     "output_type": "execute_result"
    }
   ],
   "source": [
    "a(6),1/(2*3*5*6)"
   ]
  },
  {
   "cell_type": "code",
   "execution_count": 20,
   "id": "e654a9ab-9af4-4bb0-88c7-9aa51dc54a53",
   "metadata": {},
   "outputs": [
    {
     "data": {
      "text/plain": [
       "(0.001984126984126984, 0.001984126984126984)"
      ]
     },
     "execution_count": 20,
     "metadata": {},
     "output_type": "execute_result"
    }
   ],
   "source": [
    "a(7),1/(3*4*6*7)"
   ]
  },
  {
   "cell_type": "code",
   "execution_count": 21,
   "id": "24c4e35d-bbf7-4604-b0ae-3d0319932e77",
   "metadata": {},
   "outputs": [
    {
     "data": {
      "text/plain": [
       "(0.0, 0)"
      ]
     },
     "execution_count": 21,
     "metadata": {},
     "output_type": "execute_result"
    }
   ],
   "source": [
    "a(8),0"
   ]
  },
  {
   "cell_type": "code",
   "execution_count": 22,
   "id": "af1468d8-da2f-43c3-8037-1ab7e8207c8d",
   "metadata": {},
   "outputs": [
    {
     "data": {
      "text/plain": [
       "(7.716049382716048e-05, 7.716049382716049e-05)"
      ]
     },
     "execution_count": 22,
     "metadata": {},
     "output_type": "execute_result"
    }
   ],
   "source": [
    "a(9),1/(2*3*5*6*8*9)"
   ]
  },
  {
   "cell_type": "code",
   "execution_count": null,
   "id": "0a814b97-be8e-4ab7-9adb-f4c77058ff64",
   "metadata": {},
   "outputs": [],
   "source": []
  },
  {
   "cell_type": "code",
   "execution_count": null,
   "id": "ba7a268b-4df3-415b-9a7e-30c2f90402aa",
   "metadata": {},
   "outputs": [],
   "source": []
  },
  {
   "cell_type": "code",
   "execution_count": 9,
   "id": "91902b40-df3d-478a-a7b2-be9fab1c8250",
   "metadata": {},
   "outputs": [
    {
     "data": {
      "text/plain": [
       "0.0"
      ]
     },
     "execution_count": 9,
     "metadata": {},
     "output_type": "execute_result"
    }
   ],
   "source": [
    "a(20)"
   ]
  },
  {
   "cell_type": "code",
   "execution_count": 10,
   "id": "36fa46ad-6605-4317-a8c3-a6d0ca48d800",
   "metadata": {},
   "outputs": [
    {
     "data": {
      "text/plain": [
       "2.165863366310623e-14"
      ]
     },
     "execution_count": 10,
     "metadata": {},
     "output_type": "execute_result"
    }
   ],
   "source": [
    "a(21)"
   ]
  },
  {
   "cell_type": "code",
   "execution_count": 11,
   "id": "4abd0779-a8cb-4c55-b970-05c2c436b66e",
   "metadata": {},
   "outputs": [],
   "source": [
    "def airy1(x,nterms):\n",
    "    \"\"\"Coefficients a0, a3, a6, ...\n",
    "    \"\"\"\n",
    "    result = 0\n",
    "    for i in range(nterms):\n",
    "        n = i * 3\n",
    "        result = result + a(n)*x**n # definition of power series\n",
    "        #print(f\"I am using i {i} and n {n}\")\n",
    "    return result\n",
    "def airy2(x,nterms):\n",
    "    \"\"\"Coefficients a1, a4, a7, ...\n",
    "    \"\"\"\n",
    "    result = 0\n",
    "    for i in range(nterms):\n",
    "        n = 1 + i * 3\n",
    "        result = result + a(n)*x**n # definition of power series\n",
    "        #print(f\"I am using i {i} and n {n}\")\n",
    "    return result"
   ]
  },
  {
   "cell_type": "code",
   "execution_count": 23,
   "id": "3aa9aedc-59e2-4ea6-bedc-4241c8e1b1ec",
   "metadata": {},
   "outputs": [
    {
     "data": {
      "text/plain": [
       "<matplotlib.legend.Legend at 0x7fd68c1a2090>"
      ]
     },
     "execution_count": 23,
     "metadata": {},
     "output_type": "execute_result"
    },
    {
     "data": {
      "image/png": "[encoded data removed]",
      "text/plain": [
       "<Figure size 432x288 with 1 Axes>"
      ]
     },
     "metadata": {
      "needs_background": "light"
     },
     "output_type": "display_data"
    }
   ],
   "source": [
    "x = np.linspace(-15,5,100) # linearly (evenly) spaced points from 0 to 5. 100 of them\n",
    "plt.plot(x,airy1(x=x,nterms=20),label='airy1')\n",
    "plt.legend()"
   ]
  },
  {
   "cell_type": "code",
   "execution_count": 46,
   "id": "1aa89b6e-a0a3-4677-93d8-18f82ea7df63",
   "metadata": {},
   "outputs": [
    {
     "data": {
      "text/plain": [
       "<matplotlib.legend.Legend at 0x7fd68e667ed0>"
      ]
     },
     "execution_count": 46,
     "metadata": {},
     "output_type": "execute_result"
    },
    {
     "data": {
      "image/png": "[encoded data removed]",
      "text/plain": [
       "<Figure size 432x288 with 1 Axes>"
      ]
     },
     "metadata": {
      "needs_background": "light"
     },
     "output_type": "display_data"
    }
   ],
   "source": [
    "from scipy import special\n",
    "x = np.linspace(-10,2,100) # linearly (evenly) spaced points from 0 to 5. 100 of them\n",
    "\n",
    "nterms = 100\n",
    "ai, aip, bi, bip = special.airy(x)\n",
    "plt.plot(x,airy1(x=x,nterms=nterms),label='airy1')\n",
    "plt.plot(x,airy2(x=x,nterms=nterms),label='airy2')\n",
    "#plt.plot(x, ai, 'r', label='Ai(x)')\n",
    "#plt.plot(x, bi, 'b--', label='Bi(x)')\n",
    "#plt.plot(x,aip,'k-',label='aip')\n",
    "#plt.plot(x,bip,'k--',label='bip')\n",
    "plt.ylim(-1, 4.0)\n",
    "plt.grid()\n",
    "plt.legend()"
   ]
  },
  {
   "cell_type": "code",
   "execution_count": null,
   "id": "5f67e7a8-6749-499b-a0c8-e607f340c14b",
   "metadata": {},
   "outputs": [],
   "source": []
  }
 ],
 "metadata": {
  "kernelspec": {
   "display_name": "Python 3 (ipykernel)",
   "language": "python",
   "name": "python3"
  },
  "language_info": {
   "codemirror_mode": {
    "name": "ipython",
    "version": 3
   },
   "file_extension": ".py",
   "mimetype": "text/x-python",
   "name": "python",
   "nbconvert_exporter": "python",
   "pygments_lexer": "ipython3",
   "version": "3.7.7"
  }
 },
 "nbformat": 4,
 "nbformat_minor": 5
}
